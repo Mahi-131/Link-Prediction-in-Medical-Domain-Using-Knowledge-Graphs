{
 "cells": [
  {
   "cell_type": "markdown",
   "id": "07263302",
   "metadata": {},
   "source": [
    "### Importing Libraries"
   ]
  },
  {
   "cell_type": "code",
   "execution_count": 1,
   "id": "58c66ad7",
   "metadata": {},
   "outputs": [],
   "source": [
    "from py2neo import Graph\n",
    "import pandas as pd"
   ]
  },
  {
   "cell_type": "markdown",
   "id": "d112ff25",
   "metadata": {},
   "source": [
    "### Integrating with Neo4j using py2neo"
   ]
  },
  {
   "cell_type": "code",
   "execution_count": 2,
   "id": "ba7d3a6b",
   "metadata": {},
   "outputs": [],
   "source": [
    "graph = Graph('bolt://localhost:7687', auth=('neo4j', 'nextproject'))"
   ]
  },
  {
   "cell_type": "code",
   "execution_count": 3,
   "id": "25e6f461",
   "metadata": {},
   "outputs": [
    {
     "data": {
      "text/html": [
       "<table><tr><th>n</th></tr><tr><td style=\"text-align:left\">(_0:Encounter {id: &#039;20220001&#039;, operation_code: &#039;CAGM&#039;, operation_date: datetime(&#039;2019-10-11T00:00:00.000000000+00:00&#039;), patient_id: &#039;XYZ00001005&#039;, procedure_weight: 4})</td></tr><tr><td style=\"text-align:left\">(_1:Encounter {id: &#039;20220002&#039;, operation_code: &#039;CAGM&#039;, operation_date: datetime(&#039;2019-06-07T00:00:00.000000000+00:00&#039;), patient_id: &#039;XYZ00005126&#039;, procedure_weight: 5})</td></tr><tr><td style=\"text-align:left\">(_2:Encounter {id: &#039;20220003&#039;, operation_code: &#039;CAGM&#039;, operation_date: datetime(&#039;2019-05-22T00:00:00.000000000+00:00&#039;), patient_id: &#039;XYZ00005235&#039;, procedure_weight: 4})</td></tr></table>"
      ],
      "text/plain": [
       " n                                                                                                                                                                        \n",
       "--------------------------------------------------------------------------------------------------------------------------------------------------------------------------\n",
       " (_0:Encounter {id: '20220001', operation_code: 'CAGM', operation_date: datetime('2019-10-11T00:00:00.000000000+00:00'), patient_id: 'XYZ00001005', procedure_weight: 4}) \n",
       " (_1:Encounter {id: '20220002', operation_code: 'CAGM', operation_date: datetime('2019-06-07T00:00:00.000000000+00:00'), patient_id: 'XYZ00005126', procedure_weight: 5}) \n",
       " (_2:Encounter {id: '20220003', operation_code: 'CAGM', operation_date: datetime('2019-05-22T00:00:00.000000000+00:00'), patient_id: 'XYZ00005235', procedure_weight: 4}) "
      ]
     },
     "execution_count": 3,
     "metadata": {},
     "output_type": "execute_result"
    }
   ],
   "source": [
    "query =\"\"\"\n",
    "   match(n) return(n)\n",
    "\"\"\"\n",
    "graph.run(query)"
   ]
  },
  {
   "cell_type": "code",
   "execution_count": 4,
   "id": "51d07902",
   "metadata": {},
   "outputs": [],
   "source": [
    "# Function for running queries\n",
    "def run(query):\n",
    "    return(graph.run(query).stats())"
   ]
  },
  {
   "cell_type": "code",
   "execution_count": 5,
   "id": "c29d4783",
   "metadata": {},
   "outputs": [],
   "source": [
    "def index_run(query_list):\n",
    "    for i in query_list:\n",
    "        graph.run(i).stats()"
   ]
  },
  {
   "cell_type": "code",
   "execution_count": 6,
   "id": "dbcba6a0",
   "metadata": {},
   "outputs": [],
   "source": [
    "# query1 =[\"CREATE INDEX ON :Encounter(id)\",\n",
    "#          \"CREATE INDEX ON :Patient (id)\",         \n",
    "#          \"CREATE INDEX ON :Condition (code)\",  \n",
    "#          \"CREATE INDEX ON :Procedure (code)\"]\n",
    "\n",
    "# index_run(query1)"
   ]
  },
  {
   "cell_type": "code",
   "execution_count": 7,
   "id": "99b8c26f",
   "metadata": {},
   "outputs": [
    {
     "data": {
      "text/html": [
       "<table><tr><th>nodes</th><th>relationships</th></tr><tr><td style=\"text-align:left\">[(_-3:Condition {constraints: [], indexes: [&#039;code&#039;], name: &#039;Condition&#039;}), (_-1:Encounter {constraints: [], indexes: [&#039;id&#039;], name: &#039;Encounter&#039;}), (_-2:Patient {constraints: [], indexes: [&#039;id&#039;], name: &#039;Patient&#039;}), (_-4:Procedure {constraints: [], indexes: [&#039;code&#039;], name: &#039;Procedure&#039;})]</td><td style=\"text-align:left\">[(_-2)-[:HAS_ENCOUNTER {}]-&gt;(_-1), (_-1)-[:HAS_PROCEDURE {}]-&gt;(_-4), (_-1)-[:NEXT {}]-&gt;(_-1), (_-1)-[:HAS_CONDITION {}]-&gt;(_-3), (_-4)-[:SIMILAR {}]-&gt;(_-1), (_-4)-[:SIMILAR {}]-&gt;(_-4), (_-4)-[:SIMILAR {}]-&gt;(_-2)]</td></tr></table>"
      ],
      "text/plain": [
       " nodes                                                                                                                                                                                                                                                                                        | relationships                                                                                                                                                                                                       \n",
       "----------------------------------------------------------------------------------------------------------------------------------------------------------------------------------------------------------------------------------------------------------------------------------------------|---------------------------------------------------------------------------------------------------------------------------------------------------------------------------------------------------------------------\n",
       " [(_-3:Condition {constraints: [], indexes: ['code'], name: 'Condition'}), (_-1:Encounter {constraints: [], indexes: ['id'], name: 'Encounter'}), (_-2:Patient {constraints: [], indexes: ['id'], name: 'Patient'}), (_-4:Procedure {constraints: [], indexes: ['code'], name: 'Procedure'})] | [(_-2)-[:HAS_ENCOUNTER {}]->(_-1), (_-1)-[:HAS_PROCEDURE {}]->(_-4), (_-1)-[:NEXT {}]->(_-1), (_-1)-[:HAS_CONDITION {}]->(_-3), (_-4)-[:SIMILAR {}]->(_-1), (_-4)-[:SIMILAR {}]->(_-4), (_-4)-[:SIMILAR {}]->(_-2)] "
      ]
     },
     "execution_count": 7,
     "metadata": {},
     "output_type": "execute_result"
    }
   ],
   "source": [
    "graph.query(\"call db.schema.visualization\")"
   ]
  },
  {
   "cell_type": "code",
   "execution_count": null,
   "id": "df09b058",
   "metadata": {},
   "outputs": [],
   "source": [
    "# query = 'DROP INDEX ON : Condition (code)'\n",
    "# graph.run(query)"
   ]
  },
  {
   "cell_type": "markdown",
   "id": "b1ee8337",
   "metadata": {},
   "source": [
    "## Loading CSV Files\n"
   ]
  },
  {
   "cell_type": "markdown",
   "id": "e91964e6",
   "metadata": {},
   "source": [
    "Loading Encounter.csv and setting the properties of each encounter with its date and Patient date."
   ]
  },
  {
   "cell_type": "code",
   "execution_count": 63,
   "id": "89b38824",
   "metadata": {},
   "outputs": [
    {
     "data": {
      "text/plain": [
       "{'labels_added': 15501,\n",
       " 'relationships_created': 8694,\n",
       " 'nodes_created': 15501,\n",
       " 'properties_set': 32889}"
      ]
     },
     "execution_count": 63,
     "metadata": {},
     "output_type": "execute_result"
    }
   ],
   "source": [
    "query2 = '''\n",
    "        load csv with headers from \"file:/csv/Encounter.csv\" as row\n",
    "        MERGE (e:Encounter {id:row.ENCOUNTER_ID})\n",
    "          SET \n",
    "            e.operation_date=date(row.OPER_DT),\n",
    "            e.patient_id=row.PATIENT_ID\n",
    "\n",
    "        MERGE (p:Patient {id:row.PATIENT_ID})\n",
    "        \n",
    "        MERGE (p)-[:HAS_ENCOUNTER]->(e)\n",
    "        \n",
    "        '''\n",
    "run(query2)"
   ]
  },
  {
   "cell_type": "markdown",
   "id": "a7fb7fdf",
   "metadata": {},
   "source": [
    "Loading Patient.csv file,creating the node for each patient and adding the properties of the patient."
   ]
  },
  {
   "cell_type": "code",
   "execution_count": 64,
   "id": "4b6da2b7",
   "metadata": {},
   "outputs": [
    {
     "data": {
      "text/plain": [
       "{'properties_set': 21917}"
      ]
     },
     "execution_count": 64,
     "metadata": {},
     "output_type": "execute_result"
    }
   ],
   "source": [
    "query3 = '''\n",
    "      load csv with headers from \"file:/csv/Patients.csv\" as row\n",
    "      MERGE (p:Patient {id:row.PATIENT_ID})\n",
    "          SET\n",
    "               p.Name=row.PATIENT_NAME, \n",
    "               p.gender=row.GENDER,            \n",
    "               p.weight=row.WEIGHT,\n",
    "               p.height=row.HEIGHT\n",
    "\n",
    "        '''\n",
    "run(query3)"
   ]
  },
  {
   "cell_type": "markdown",
   "id": "7bd2b19f",
   "metadata": {},
   "source": [
    "Loading Condition.csv file,creating the node for each and adding the properties of the patient."
   ]
  },
  {
   "cell_type": "code",
   "execution_count": 65,
   "id": "9dc0a1b7",
   "metadata": {},
   "outputs": [
    {
     "data": {
      "text/plain": [
       "{'labels_added': 8694,\n",
       " 'relationships_created': 8694,\n",
       " 'nodes_created': 8694,\n",
       " 'properties_set': 28224}"
      ]
     },
     "execution_count": 65,
     "metadata": {},
     "output_type": "execute_result"
    }
   ],
   "source": [
    "query4 = '''\n",
    "      load csv with headers from \"file:/csv/Condition.csv\" as row\n",
    "      MATCH (p:Patient {id:row.PATIENT_ID})\n",
    "        MERGE (c:Condition {code:row.ENCOUNTER_ID})\n",
    "        SET \n",
    "            c.description=row.DIAGNOSIS_ICD_TEXT,\n",
    "            c.diagnosis = row.DIAGNOSIS,\n",
    "            c.operation_date = datetime(row.OPER_DT)\n",
    "        \n",
    "        MERGE (cs:Encounter {id:row.ENCOUNTER_ID})\n",
    "        ON CREATE\n",
    "          SET cs.date=datetime(row.OPER_DT) \n",
    "          \n",
    "        MERGE (p)-[:HAS_ENCOUNTER]->(cs)\n",
    "        MERGE (cs)-[:HAS_CONDITION]->(c)\n",
    "\n",
    "        '''\n",
    "run(query4)"
   ]
  },
  {
   "cell_type": "markdown",
   "id": "7609640a",
   "metadata": {},
   "source": [
    "Loading Procedures.csv file,creating the node for each and adding the properties of the patient."
   ]
  },
  {
   "cell_type": "code",
   "execution_count": 66,
   "id": "2af08de2",
   "metadata": {},
   "outputs": [
    {
     "data": {
      "text/plain": [
       "{'labels_added': 367,\n",
       " 'relationships_created': 8694,\n",
       " 'nodes_created': 367,\n",
       " 'properties_set': 43837}"
      ]
     },
     "execution_count": 66,
     "metadata": {},
     "output_type": "execute_result"
    }
   ],
   "source": [
    "query2 = '''\n",
    "      load csv with headers from \"file:/csv/Procedures.csv\" as row\n",
    "      MERGE (p:Patient {id:row.PATIENT_ID})\n",
    "      MERGE (r:Procedure {code:row.OPERCODE})\n",
    "          \n",
    "          SET \n",
    "              r.description=row.OPER_NAME,\n",
    "              r.operation_date=datetime(row.OPER_DT),\n",
    "              r.cost = row.COST\n",
    "          MERGE (pe:Encounter {id:row.ENCOUNTER_ID})\n",
    "          \n",
    "          ON MATCH\n",
    "            SET pe.operation_date=datetime(row.OPER_DT), pe.operation_code=row.OPERCODE\n",
    "\n",
    "          MERGE (p)-[:HAS_ENCOUNTER]->(pe)\n",
    "          MERGE (pe)-[:HAS_PROCEDURE]->(r)\n",
    "        '''\n",
    "run(query2)"
   ]
  },
  {
   "cell_type": "markdown",
   "id": "d43422f1",
   "metadata": {},
   "source": [
    "Creating a NEXT relationship "
   ]
  },
  {
   "cell_type": "code",
   "execution_count": 67,
   "id": "908815a9",
   "metadata": {},
   "outputs": [
    {
     "data": {
      "text/plain": [
       "{}"
      ]
     },
     "execution_count": 67,
     "metadata": {},
     "output_type": "execute_result"
    }
   ],
   "source": [
    "query2 = '''\n",
    "\n",
    "    CALL apoc.periodic.iterate(\n",
    "    'MATCH (p:Patient) RETURN p',\n",
    "    'MATCH (p)-[:HAS_ENCOUNTER]->(e)\n",
    "    WITH e\n",
    "    ORDER BY e.operation_date\n",
    "    WITH collect(e) AS encounters\n",
    "    WITH encounters, encounters[1..] as nextEncounters\n",
    "    UNWIND range(0,size(nextEncounters)-1,1) as index\n",
    "    WITH encounters[index] as first, nextEncounters[index] as second\n",
    "    CREATE (first)-[:NEXT{days:duration.inDays(date(first.operation_date), date(second.operation_date))}]->(second)',{iterateList:false});\n",
    "    \n",
    "    '''\n",
    "run(query2)"
   ]
  },
  {
   "cell_type": "code",
   "execution_count": 69,
   "id": "7afe1824",
   "metadata": {},
   "outputs": [
    {
     "data": {
      "text/plain": [
       "{}"
      ]
     },
     "execution_count": 69,
     "metadata": {},
     "output_type": "execute_result"
    }
   ],
   "source": [
    "query2 = '''\n",
    "       CALL apoc.periodic.iterate('MATCH (c:Condition) RETURN c',\n",
    "      'MATCH (c)<-[:HAS_CONDITION]-(:Encounter)<-[:HAS_ENCOUNTER]-(p:Patient)\n",
    "      WITH c,count(p) AS NUM\n",
    "      SET c.num=NUM', {}\n",
    "      );\n",
    "    '''\n",
    "run(query2)"
   ]
  },
  {
   "cell_type": "markdown",
   "id": "3066d21c",
   "metadata": {},
   "source": [
    "# Insights"
   ]
  },
  {
   "cell_type": "markdown",
   "id": "25ae54d2",
   "metadata": {},
   "source": [
    "#### Query to get patients and procedures"
   ]
  },
  {
   "cell_type": "code",
   "execution_count": 14,
   "id": "998b061c",
   "metadata": {},
   "outputs": [
    {
     "data": {
      "text/html": [
       "<div>\n",
       "<style scoped>\n",
       "    .dataframe tbody tr th:only-of-type {\n",
       "        vertical-align: middle;\n",
       "    }\n",
       "\n",
       "    .dataframe tbody tr th {\n",
       "        vertical-align: top;\n",
       "    }\n",
       "\n",
       "    .dataframe thead th {\n",
       "        text-align: right;\n",
       "    }\n",
       "</style>\n",
       "<table border=\"1\" class=\"dataframe\">\n",
       "  <thead>\n",
       "    <tr style=\"text-align: right;\">\n",
       "      <th></th>\n",
       "      <th>Patient_id</th>\n",
       "      <th>Patient_name</th>\n",
       "      <th>sequence</th>\n",
       "    </tr>\n",
       "  </thead>\n",
       "  <tbody>\n",
       "    <tr>\n",
       "      <th>0</th>\n",
       "      <td>ABC00579733</td>\n",
       "      <td>RENJITH R  PAI</td>\n",
       "      <td>[CAGM, EPS, RFA]</td>\n",
       "    </tr>\n",
       "    <tr>\n",
       "      <th>1</th>\n",
       "      <td>ABC00564991</td>\n",
       "      <td>AJAY SAH</td>\n",
       "      <td>[CAGM, PAGM, PTAAB]</td>\n",
       "    </tr>\n",
       "    <tr>\n",
       "      <th>2</th>\n",
       "      <td>ABC00338680</td>\n",
       "      <td>NIRANJAN DEY</td>\n",
       "      <td>[CAGM, A203]</td>\n",
       "    </tr>\n",
       "    <tr>\n",
       "      <th>3</th>\n",
       "      <td>ABC00591287</td>\n",
       "      <td>RUDRARAJU ADITYA VARMA</td>\n",
       "      <td>[CAGM, ICDI]</td>\n",
       "    </tr>\n",
       "    <tr>\n",
       "      <th>4</th>\n",
       "      <td>ABC00587272</td>\n",
       "      <td>S MAIMUNNISA BEGUM</td>\n",
       "      <td>[CAGM, PTCAP]</td>\n",
       "    </tr>\n",
       "    <tr>\n",
       "      <th>...</th>\n",
       "      <td>...</td>\n",
       "      <td>...</td>\n",
       "      <td>...</td>\n",
       "    </tr>\n",
       "    <tr>\n",
       "      <th>6802</th>\n",
       "      <td>ABC00579426</td>\n",
       "      <td>BHOLANATH DHAL</td>\n",
       "      <td>[UROPER7]</td>\n",
       "    </tr>\n",
       "    <tr>\n",
       "      <th>6803</th>\n",
       "      <td>ABC00583567</td>\n",
       "      <td>KABITA SARKAR</td>\n",
       "      <td>[UROPER17]</td>\n",
       "    </tr>\n",
       "    <tr>\n",
       "      <th>6804</th>\n",
       "      <td>ABC00589884</td>\n",
       "      <td>MST MURSHIDA KHATUN</td>\n",
       "      <td>[UROPER17]</td>\n",
       "    </tr>\n",
       "    <tr>\n",
       "      <th>6805</th>\n",
       "      <td>ABC00598605</td>\n",
       "      <td>SURESH HALDAR</td>\n",
       "      <td>[UROPER4]</td>\n",
       "    </tr>\n",
       "    <tr>\n",
       "      <th>6806</th>\n",
       "      <td>ABC00600512</td>\n",
       "      <td>NABAKUMAR DEKA</td>\n",
       "      <td>[UROPER18]</td>\n",
       "    </tr>\n",
       "  </tbody>\n",
       "</table>\n",
       "<p>6807 rows × 3 columns</p>\n",
       "</div>"
      ],
      "text/plain": [
       "       Patient_id            Patient_name             sequence\n",
       "0     ABC00579733         RENJITH R  PAI      [CAGM, EPS, RFA]\n",
       "1     ABC00564991                AJAY SAH  [CAGM, PAGM, PTAAB]\n",
       "2     ABC00338680           NIRANJAN DEY          [CAGM, A203]\n",
       "3     ABC00591287  RUDRARAJU ADITYA VARMA         [CAGM, ICDI]\n",
       "4     ABC00587272      S MAIMUNNISA BEGUM        [CAGM, PTCAP]\n",
       "...           ...                     ...                  ...\n",
       "6802  ABC00579426          BHOLANATH DHAL            [UROPER7]\n",
       "6803  ABC00583567           KABITA SARKAR           [UROPER17]\n",
       "6804  ABC00589884     MST MURSHIDA KHATUN           [UROPER17]\n",
       "6805  ABC00598605           SURESH HALDAR            [UROPER4]\n",
       "6806  ABC00600512          NABAKUMAR DEKA           [UROPER18]\n",
       "\n",
       "[6807 rows x 3 columns]"
      ]
     },
     "execution_count": 14,
     "metadata": {},
     "output_type": "execute_result"
    }
   ],
   "source": [
    "# \n",
    "\n",
    "query = '''\n",
    "    MATCH (p:Patient)-[:HAS_ENCOUNTER]->(e:Encounter)-[:HAS_PROCEDURE]->(pr:Procedure)\n",
    "    return p.id as Patient_id,p.Name as Patient_name,collect(pr.code) as sequence\n",
    "'''\n",
    "df3 = pd.DataFrame(graph.query(query).to_data_frame())\n",
    "df3"
   ]
  },
  {
   "cell_type": "code",
   "execution_count": 16,
   "id": "7055f69c",
   "metadata": {},
   "outputs": [],
   "source": [
    "# # Getting patients who followed CAGM, PTCAP\n",
    "\n",
    "# df3['sequence'] = df3['sequence'].astype(str)\n",
    "# df_new1= df3[df3['sequence'] == \"['CAGM', 'P1703']\"]\n",
    "# df_new1\n"
   ]
  },
  {
   "cell_type": "markdown",
   "id": "3ff9d1f4",
   "metadata": {},
   "source": [
    "#### Query to get patients and procedures"
   ]
  },
  {
   "cell_type": "code",
   "execution_count": null,
   "id": "d12922f7",
   "metadata": {},
   "outputs": [],
   "source": [
    "\n",
    "query = '''\n",
    "    MATCH (p:Patient)-[:HAS_ENCOUNTER]->(e:Encounter)-[:HAS_PROCEDURE]->(pr:Procedure{code:\"AVBDL\"})\n",
    " match (e)-[:NEXT]->(e1:Encounter)-[:HAS_PROCEDURE]->(pr1:Procedure{code:\"AVBDL\"})\n",
    " return p.id,p.Name,pr.code,pr1.code,count(*)\n",
    "'''\n",
    "df1 = pd.DataFrame(graph.query(query).to_data_frame())\n",
    "df1"
   ]
  },
  {
   "cell_type": "markdown",
   "id": "4960f47f",
   "metadata": {},
   "source": [
    "#### Counting no of nodes in our graph"
   ]
  },
  {
   "cell_type": "code",
   "execution_count": null,
   "id": "e0fc992d",
   "metadata": {
    "scrolled": true
   },
   "outputs": [],
   "source": [
    "query1 = \"\"\"\n",
    "Match(n) return count(n) as ct\n",
    "\"\"\"\n",
    "result = graph.query(query1)\n",
    "print(result)"
   ]
  },
  {
   "cell_type": "markdown",
   "id": "43d3c9ae",
   "metadata": {},
   "source": [
    "####  Returning Patients names who followed CAGM after P1703"
   ]
  },
  {
   "cell_type": "code",
   "execution_count": null,
   "id": "18245acc",
   "metadata": {},
   "outputs": [],
   "source": [
    "\n",
    "params = {'p1':'CAGM',\n",
    "          'p2':'PTCAP'}\n",
    "\n",
    "query2 = \"\"\"\n",
    "        match(n:Patient)-[:HAS_ENCOUNTER]->(e:Encounter{operation_code:$p1})-[:NEXT]->(e1:Encounter{operation_code:$p2})\n",
    "        //where e1.operation_code CONTAINS $contains \n",
    "        return n.id as id\n",
    "         \"\"\"\n",
    "\n",
    "result_df1 = pd.DataFrame(graph.query(query2,parameters = params).to_data_frame())\n",
    "len(result_df1.id.unique())"
   ]
  },
  {
   "cell_type": "markdown",
   "id": "005755ea",
   "metadata": {},
   "source": [
    "#### Counting indegress for different procedures \n",
    "#### Also we can know here that which procedure is followed by most of the patients."
   ]
  },
  {
   "cell_type": "code",
   "execution_count": 10,
   "id": "215ee02c",
   "metadata": {},
   "outputs": [
    {
     "data": {
      "text/html": [
       "<div>\n",
       "<style scoped>\n",
       "    .dataframe tbody tr th:only-of-type {\n",
       "        vertical-align: middle;\n",
       "    }\n",
       "\n",
       "    .dataframe tbody tr th {\n",
       "        vertical-align: top;\n",
       "    }\n",
       "\n",
       "    .dataframe thead th {\n",
       "        text-align: right;\n",
       "    }\n",
       "</style>\n",
       "<table border=\"1\" class=\"dataframe\">\n",
       "  <thead>\n",
       "    <tr style=\"text-align: right;\">\n",
       "      <th></th>\n",
       "      <th>p.code</th>\n",
       "      <th>inDegree</th>\n",
       "    </tr>\n",
       "  </thead>\n",
       "  <tbody>\n",
       "    <tr>\n",
       "      <th>0</th>\n",
       "      <td>CAGM</td>\n",
       "      <td>933</td>\n",
       "    </tr>\n",
       "    <tr>\n",
       "      <th>1</th>\n",
       "      <td>PTCAP</td>\n",
       "      <td>924</td>\n",
       "    </tr>\n",
       "    <tr>\n",
       "      <th>2</th>\n",
       "      <td>P103</td>\n",
       "      <td>335</td>\n",
       "    </tr>\n",
       "    <tr>\n",
       "      <th>3</th>\n",
       "      <td>EPS</td>\n",
       "      <td>296</td>\n",
       "    </tr>\n",
       "    <tr>\n",
       "      <th>4</th>\n",
       "      <td>PTMCM</td>\n",
       "      <td>288</td>\n",
       "    </tr>\n",
       "    <tr>\n",
       "      <th>...</th>\n",
       "      <td>...</td>\n",
       "      <td>...</td>\n",
       "    </tr>\n",
       "    <tr>\n",
       "      <th>362</th>\n",
       "      <td>ORTHOPER14</td>\n",
       "      <td>1</td>\n",
       "    </tr>\n",
       "    <tr>\n",
       "      <th>363</th>\n",
       "      <td>UROPER23</td>\n",
       "      <td>1</td>\n",
       "    </tr>\n",
       "    <tr>\n",
       "      <th>364</th>\n",
       "      <td>UROPER12</td>\n",
       "      <td>1</td>\n",
       "    </tr>\n",
       "    <tr>\n",
       "      <th>365</th>\n",
       "      <td>UROPER4</td>\n",
       "      <td>1</td>\n",
       "    </tr>\n",
       "    <tr>\n",
       "      <th>366</th>\n",
       "      <td>UROPER18</td>\n",
       "      <td>1</td>\n",
       "    </tr>\n",
       "  </tbody>\n",
       "</table>\n",
       "<p>367 rows × 2 columns</p>\n",
       "</div>"
      ],
      "text/plain": [
       "         p.code  inDegree\n",
       "0          CAGM       933\n",
       "1         PTCAP       924\n",
       "2          P103       335\n",
       "3           EPS       296\n",
       "4         PTMCM       288\n",
       "..          ...       ...\n",
       "362  ORTHOPER14         1\n",
       "363    UROPER23         1\n",
       "364    UROPER12         1\n",
       "365     UROPER4         1\n",
       "366    UROPER18         1\n",
       "\n",
       "[367 rows x 2 columns]"
      ]
     },
     "execution_count": 10,
     "metadata": {},
     "output_type": "execute_result"
    }
   ],
   "source": [
    "query3 = \"\"\"\n",
    "            match(p:Procedure)\n",
    "            return distinct p.code, SIZE(()-[]->(p)) AS inDegree ORDER BY inDegree DESC\n",
    "         \"\"\"\n",
    "result1 = graph.query(query3).to_data_frame()\n",
    "result1\n"
   ]
  },
  {
   "cell_type": "markdown",
   "id": "a149a676",
   "metadata": {},
   "source": [
    "## Assosciation rule mining\n"
   ]
  },
  {
   "cell_type": "markdown",
   "id": "47b0bb88",
   "metadata": {},
   "source": [
    "#### Query to get patients and procedures"
   ]
  },
  {
   "cell_type": "code",
   "execution_count": null,
   "id": "99e15561",
   "metadata": {},
   "outputs": [],
   "source": [
    "query = '''\n",
    "    MATCH (p:Patient)-[:HAS_ENCOUNTER]->(e:Encounter)-[:HAS_PROCEDURE]->(pr:Procedure)\n",
    "    return p.id as Patient_id,collect(pr.code) as sequence\n",
    "'''\n",
    "df3 = pd.DataFrame(graph.query(query).to_data_frame())\n",
    "df3"
   ]
  },
  {
   "cell_type": "markdown",
   "id": "a3ac9e1a",
   "metadata": {},
   "source": [
    "# Support and Confidence "
   ]
  },
  {
   "cell_type": "code",
   "execution_count": 21,
   "id": "bf1938d2",
   "metadata": {},
   "outputs": [],
   "source": [
    "query = \"\"\"\n",
    "            MATCH (p:Patient)-[:HAS_ENCOUNTER]->(e:Encounter)-[:HAS_PROCEDURE]->(pr:Procedure)\n",
    "            return p.id as Patient_id,collect(pr.code) as sequence\n",
    "        \"\"\"\n",
    "df4 = pd.DataFrame(graph.query(query).to_data_frame())"
   ]
  },
  {
   "cell_type": "code",
   "execution_count": 22,
   "id": "85b76642",
   "metadata": {
    "scrolled": true
   },
   "outputs": [
    {
     "data": {
      "text/html": [
       "<div>\n",
       "<style scoped>\n",
       "    .dataframe tbody tr th:only-of-type {\n",
       "        vertical-align: middle;\n",
       "    }\n",
       "\n",
       "    .dataframe tbody tr th {\n",
       "        vertical-align: top;\n",
       "    }\n",
       "\n",
       "    .dataframe thead th {\n",
       "        text-align: right;\n",
       "    }\n",
       "</style>\n",
       "<table border=\"1\" class=\"dataframe\">\n",
       "  <thead>\n",
       "    <tr style=\"text-align: right;\">\n",
       "      <th></th>\n",
       "      <th>Patient_id</th>\n",
       "      <th>sequence</th>\n",
       "    </tr>\n",
       "  </thead>\n",
       "  <tbody>\n",
       "    <tr>\n",
       "      <th>0</th>\n",
       "      <td>ABC00579733</td>\n",
       "      <td>[CAGM, EPS, RFA]</td>\n",
       "    </tr>\n",
       "    <tr>\n",
       "      <th>1</th>\n",
       "      <td>ABC00564991</td>\n",
       "      <td>[CAGM, PAGM, PTAAB]</td>\n",
       "    </tr>\n",
       "    <tr>\n",
       "      <th>2</th>\n",
       "      <td>ABC00338680</td>\n",
       "      <td>[CAGM, A203]</td>\n",
       "    </tr>\n",
       "    <tr>\n",
       "      <th>3</th>\n",
       "      <td>ABC00591287</td>\n",
       "      <td>[CAGM, ICDI]</td>\n",
       "    </tr>\n",
       "    <tr>\n",
       "      <th>4</th>\n",
       "      <td>ABC00587272</td>\n",
       "      <td>[CAGM, PTCAP]</td>\n",
       "    </tr>\n",
       "    <tr>\n",
       "      <th>...</th>\n",
       "      <td>...</td>\n",
       "      <td>...</td>\n",
       "    </tr>\n",
       "    <tr>\n",
       "      <th>6802</th>\n",
       "      <td>ABC00579426</td>\n",
       "      <td>[UROPER7]</td>\n",
       "    </tr>\n",
       "    <tr>\n",
       "      <th>6803</th>\n",
       "      <td>ABC00583567</td>\n",
       "      <td>[UROPER17]</td>\n",
       "    </tr>\n",
       "    <tr>\n",
       "      <th>6804</th>\n",
       "      <td>ABC00589884</td>\n",
       "      <td>[UROPER17]</td>\n",
       "    </tr>\n",
       "    <tr>\n",
       "      <th>6805</th>\n",
       "      <td>ABC00598605</td>\n",
       "      <td>[UROPER4]</td>\n",
       "    </tr>\n",
       "    <tr>\n",
       "      <th>6806</th>\n",
       "      <td>ABC00600512</td>\n",
       "      <td>[UROPER18]</td>\n",
       "    </tr>\n",
       "  </tbody>\n",
       "</table>\n",
       "<p>6807 rows × 2 columns</p>\n",
       "</div>"
      ],
      "text/plain": [
       "       Patient_id             sequence\n",
       "0     ABC00579733     [CAGM, EPS, RFA]\n",
       "1     ABC00564991  [CAGM, PAGM, PTAAB]\n",
       "2     ABC00338680         [CAGM, A203]\n",
       "3     ABC00591287         [CAGM, ICDI]\n",
       "4     ABC00587272        [CAGM, PTCAP]\n",
       "...           ...                  ...\n",
       "6802  ABC00579426            [UROPER7]\n",
       "6803  ABC00583567           [UROPER17]\n",
       "6804  ABC00589884           [UROPER17]\n",
       "6805  ABC00598605            [UROPER4]\n",
       "6806  ABC00600512           [UROPER18]\n",
       "\n",
       "[6807 rows x 2 columns]"
      ]
     },
     "execution_count": 22,
     "metadata": {},
     "output_type": "execute_result"
    }
   ],
   "source": [
    "df4"
   ]
  },
  {
   "cell_type": "code",
   "execution_count": null,
   "id": "c4ea37a4",
   "metadata": {},
   "outputs": [],
   "source": []
  },
  {
   "cell_type": "markdown",
   "id": "23872845",
   "metadata": {},
   "source": [
    "### Unique procedures and their Count"
   ]
  },
  {
   "cell_type": "code",
   "execution_count": 19,
   "id": "8685eddc",
   "metadata": {},
   "outputs": [],
   "source": [
    "query = '''\n",
    "        MATCH (p:Patient)-[:HAS_ENCOUNTER]->(e:Encounter)\n",
    "        WITH p,e\n",
    "        ORDER BY e.operation_date\n",
    "        with p.id as Patient_Id, p.Name as Patient_Name,collect(e.operation_code) as sequence\n",
    "        return sequence, count(Patient_Id) as count\n",
    "        order by count(Patient_Id) descending\n",
    "'''\n",
    "df7 = pd.DataFrame(graph.query(query).to_data_frame())\n",
    "df7"
   ]
  },
  {
   "cell_type": "code",
   "execution_count": 19,
   "id": "9fa320c8",
   "metadata": {},
   "outputs": [],
   "source": [
    "query = \"\"\"\n",
    "                match (c:Patient)\n",
    "                CALL{\n",
    "                        with c \n",
    "                        return count(c) as mycount\n",
    "                }\n",
    "                with sum(mycount)as count1\n",
    "                MATCH (p:Patient)-[:HAS_ENCOUNTER]->(e:Encounter)\n",
    "                WITH p,e\n",
    "                ORDER BY e.operation_date\n",
    "                with p.id as Patient_Id, p.Name as Patient_Name,collect(e.operation_code) as sequence\n",
    "                with toInteger(count(distinct sequence)) as Total_unique,Patient_Id,sequence\n",
    "                with sequence ,round(toFloat(count(Patient_Id))/895,5) as support\n",
    "                order by support descending\n",
    "                return sequence, support \n",
    "        \"\"\"\n",
    "\n",
    "df6 = pd.DataFrame(graph.query(query).to_data_frame())\n",
    "df6"
   ]
  },
  {
   "cell_type": "code",
   "execution_count": null,
   "id": "c1382d89",
   "metadata": {},
   "outputs": [],
   "source": []
  },
  {
   "cell_type": "code",
   "execution_count": null,
   "id": "c8713140",
   "metadata": {},
   "outputs": [],
   "source": []
  },
  {
   "cell_type": "code",
   "execution_count": null,
   "id": "cb894208",
   "metadata": {},
   "outputs": [],
   "source": []
  }
 ],
 "metadata": {
  "kernelspec": {
   "display_name": "Python 3 (ipykernel)",
   "language": "python",
   "name": "python3"
  },
  "language_info": {
   "codemirror_mode": {
    "name": "ipython",
    "version": 3
   },
   "file_extension": ".py",
   "mimetype": "text/x-python",
   "name": "python",
   "nbconvert_exporter": "python",
   "pygments_lexer": "ipython3",
   "version": "3.8.12"
  }
 },
 "nbformat": 4,
 "nbformat_minor": 5
}
