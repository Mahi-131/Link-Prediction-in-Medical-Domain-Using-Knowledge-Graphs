{
 "cells": [
  {
   "cell_type": "code",
   "execution_count": 3,
   "id": "bcc4f813",
   "metadata": {},
   "outputs": [],
   "source": [
    "from py2neo import Graph\n",
    "import pandas as pd"
   ]
  },
  {
   "cell_type": "code",
   "execution_count": 6,
   "id": "c4bea5f0",
   "metadata": {},
   "outputs": [],
   "source": [
    "graph = Graph('bolt://localhost:11013', auth=('neo4j', 'maharastradataset'))"
   ]
  },
  {
   "cell_type": "code",
   "execution_count": 191,
   "id": "8b087f91",
   "metadata": {},
   "outputs": [
    {
     "data": {
      "text/html": [
       "(No data)"
      ],
      "text/plain": [
       "(No data)"
      ]
     },
     "execution_count": 191,
     "metadata": {},
     "output_type": "execute_result"
    }
   ],
   "source": [
    "query =\"\"\"\n",
    "   match(n) return(n)\n",
    "\"\"\"\n",
    "graph.run(query)"
   ]
  },
  {
   "cell_type": "code",
   "execution_count": 190,
   "id": "ce1c970f",
   "metadata": {},
   "outputs": [
    {
     "data": {
      "text/html": [
       "(No data)"
      ],
      "text/plain": [
       "(No data)"
      ]
     },
     "execution_count": 190,
     "metadata": {},
     "output_type": "execute_result"
    }
   ],
   "source": [
    "query =\"\"\"\n",
    "   match(n) detach delete(n)\n",
    "\"\"\"\n",
    "graph.run(query)"
   ]
  },
  {
   "cell_type": "code",
   "execution_count": 179,
   "id": "dff687de",
   "metadata": {},
   "outputs": [],
   "source": [
    "def run(query):\n",
    "    return(graph.run(query).stats())"
   ]
  },
  {
   "cell_type": "code",
   "execution_count": 180,
   "id": "ab839986",
   "metadata": {},
   "outputs": [],
   "source": [
    "def index_run(query_list):\n",
    "    for i in query_list:\n",
    "        graph.run(i).stats()"
   ]
  },
  {
   "cell_type": "code",
   "execution_count": 193,
   "id": "6cec8799",
   "metadata": {},
   "outputs": [],
   "source": [
    "query1 =[\"CREATE INDEX ON :Encounter(id)\",\n",
    "         \"CREATE INDEX ON :Patient (id)\",          \n",
    "         \"CREATE INDEX ON :Procedure (code)\"]\n",
    "\n",
    "index_run(query1)"
   ]
  },
  {
   "cell_type": "code",
   "execution_count": 192,
   "id": "93130131",
   "metadata": {},
   "outputs": [],
   "source": [
    "# query11 =[\"DROP INDEX ON :Encounter(id)\",\n",
    "#          \"DROP INDEX ON :Patient (id)\",          \n",
    "#          \"DROP INDEX ON :Procedure (code)\"]\n",
    "\n",
    "# index_run(query11)"
   ]
  },
  {
   "cell_type": "code",
   "execution_count": 194,
   "id": "68134000",
   "metadata": {},
   "outputs": [
    {
     "data": {
      "text/html": [
       "<table><tr><th>nodes</th><th>relationships</th></tr><tr><td style=\"text-align:left\">[(_-1:Encounter {constraints: [], indexes: [&#039;id&#039;], name: &#039;Encounter&#039;}), (_-2:Patient {constraints: [], indexes: [&#039;id&#039;], name: &#039;Patient&#039;}), (_-3:Procedure {constraints: [], indexes: [&#039;code&#039;], name: &#039;Procedure&#039;})]</td><td style=\"text-align:left\">[]</td></tr></table>"
      ],
      "text/plain": [
       " nodes                                                                                                                                                                                                               | relationships \n",
       "---------------------------------------------------------------------------------------------------------------------------------------------------------------------------------------------------------------------|---------------\n",
       " [(_-1:Encounter {constraints: [], indexes: ['id'], name: 'Encounter'}), (_-2:Patient {constraints: [], indexes: ['id'], name: 'Patient'}), (_-3:Procedure {constraints: [], indexes: ['code'], name: 'Procedure'})] | []            "
      ]
     },
     "execution_count": 194,
     "metadata": {},
     "output_type": "execute_result"
    }
   ],
   "source": [
    "graph.query(\"call db.schema.visualization\")"
   ]
  },
  {
   "cell_type": "code",
   "execution_count": 195,
   "id": "a771819c",
   "metadata": {},
   "outputs": [
    {
     "data": {
      "text/plain": [
       "{'labels_added': 512, 'nodes_created': 512, 'properties_set': 1536}"
      ]
     },
     "execution_count": 195,
     "metadata": {},
     "output_type": "execute_result"
    }
   ],
   "source": [
    "q1 = '''\n",
    "      load csv with headers from \"file:/p_csv/Patient.csv\" as row\n",
    "      MERGE (p:Patient {pid:row.Patient_Id})\n",
    "          SET\n",
    "               p.gender=row.Gender,            \n",
    "               p.age=toInteger(row.Age)\n",
    "        '''\n",
    "run(q1)"
   ]
  },
  {
   "cell_type": "code",
   "execution_count": 196,
   "id": "ad7019b6",
   "metadata": {},
   "outputs": [
    {
     "data": {
      "text/plain": [
       "{'labels_added': 1539,\n",
       " 'relationships_created': 1539,\n",
       " 'nodes_created': 1539,\n",
       " 'properties_set': 6156}"
      ]
     },
     "execution_count": 196,
     "metadata": {},
     "output_type": "execute_result"
    }
   ],
   "source": [
    "query2 = '''\n",
    "        load csv with headers from \"file:/p_csv/Encounters.csv\" as row\n",
    "        MERGE (e:Encounter {id:row.Encounter_Id})\n",
    "          SET \n",
    "            e.date_order = row.Date_Order,\n",
    "            e.patient_id= row.Patient_Id,\n",
    "            e.weights= toInteger(row.Weights)\n",
    "\n",
    "        MERGE (p:Patient{pid:row.Patient_Id})\n",
    "        \n",
    "        MERGE (p)-[:HAS_ENCOUNTER]->(e)\n",
    "        \n",
    "        '''\n",
    "run(query2)"
   ]
  },
  {
   "cell_type": "code",
   "execution_count": null,
   "id": "d8a2e75e",
   "metadata": {},
   "outputs": [],
   "source": []
  },
  {
   "cell_type": "code",
   "execution_count": 197,
   "id": "15e3dbfd",
   "metadata": {},
   "outputs": [
    {
     "data": {
      "text/plain": [
       "{'labels_added': 9,\n",
       " 'relationships_created': 1539,\n",
       " 'nodes_created': 9,\n",
       " 'properties_set': 6165}"
      ]
     },
     "execution_count": 197,
     "metadata": {},
     "output_type": "execute_result"
    }
   ],
   "source": [
    "query2 = '''\n",
    "      load csv with headers from \"file:/p_csv/Procedures.csv\" as row\n",
    "      MERGE (p:Patient {pid:row.Patient_Id})\n",
    "      MERGE (r:Procedure {pname:row.Procedure})\n",
    "          \n",
    "          SET \n",
    "              r.date_order = row.Date_Order,\n",
    "              r.start_date = row.Start_date\n",
    "              \n",
    "          MERGE (pe:Encounter {id:row.Encounter_Id})\n",
    "          \n",
    "          ON MATCH\n",
    "            SET pe.date_order = row.Date_Order, pe.pname=row.Procedure, pe.Num_Order = toInteger(row.Num)\n",
    "\n",
    "          MERGE (p)-[:HAS_ENCOUNTER]->(pe)\n",
    "          MERGE (pe)-[:HAS_PROCEDURE]->(r)\n",
    "        '''\n",
    "run(query2)"
   ]
  },
  {
   "cell_type": "code",
   "execution_count": 198,
   "id": "dde4104b",
   "metadata": {},
   "outputs": [
    {
     "data": {
      "text/plain": [
       "{}"
      ]
     },
     "execution_count": 198,
     "metadata": {},
     "output_type": "execute_result"
    }
   ],
   "source": [
    "query2 = '''\n",
    "\n",
    "    CALL apoc.periodic.iterate(\n",
    "    'MATCH (p:Patient) RETURN p',\n",
    "    'MATCH (p)-[:HAS_ENCOUNTER]->(e)\n",
    "    WITH e\n",
    "    ORDER BY e.date_order\n",
    "    WITH collect(e) AS encounters\n",
    "    WITH encounters, encounters[1..] as nextEncounters\n",
    "    UNWIND range(0,size(nextEncounters)-1,1) as index\n",
    "    WITH encounters[index] as first, nextEncounters[index] as second\n",
    "    MERGE (first)-[:NEXT]->(second)',{iterateList:false});\n",
    "    \n",
    "    '''\n",
    "run(query2)"
   ]
  },
  {
   "cell_type": "code",
   "execution_count": null,
   "id": "e62df3e4",
   "metadata": {},
   "outputs": [],
   "source": []
  },
  {
   "cell_type": "code",
   "execution_count": 199,
   "id": "3a060bc8",
   "metadata": {},
   "outputs": [
    {
     "data": {
      "text/plain": [
       "{'properties_set': 512}"
      ]
     },
     "execution_count": 199,
     "metadata": {},
     "output_type": "execute_result"
    }
   ],
   "source": [
    "query5 = '''\n",
    "            MATCH (p:Patient)-[:HAS_ENCOUNTER]->(e:Encounter)-[:HAS_PROCEDURE]->(pr:Procedure)\n",
    "            with p.pnumseq as numsequence,collect(e.Num_Order) as sequence1,p\n",
    "            set p.pnumseq = sequence1\n",
    "            return p.pid\n",
    "            '''\n",
    "\n",
    "run(query5)"
   ]
  },
  {
   "cell_type": "code",
   "execution_count": 200,
   "id": "23f010fd",
   "metadata": {},
   "outputs": [],
   "source": [
    "# Removing property\n",
    "\n",
    "# query6 = '''\n",
    "#             MATCH (p:Patient)\n",
    "#             remove p.pnumseq\n",
    "# '''\n",
    "\n",
    "# run(query6)"
   ]
  },
  {
   "cell_type": "code",
   "execution_count": 201,
   "id": "b3610015",
   "metadata": {},
   "outputs": [],
   "source": [
    "# res4.to_csv(\"C:/Users/Mahesh/Desktop/Patient.csv\")"
   ]
  },
  {
   "cell_type": "markdown",
   "id": "e03620e0",
   "metadata": {},
   "source": [
    "## Node similarity\n"
   ]
  },
  {
   "cell_type": "markdown",
   "id": "9e0779d8",
   "metadata": {},
   "source": [
    "Creating In memory graph"
   ]
  },
  {
   "cell_type": "code",
   "execution_count": 141,
   "id": "12c7e1af",
   "metadata": {},
   "outputs": [
    {
     "data": {
      "text/plain": [
       "{}"
      ]
     },
     "execution_count": 141,
     "metadata": {},
     "output_type": "execute_result"
    }
   ],
   "source": [
    "query1= '''CALL gds.graph.create(\n",
    "              'sequence1',\n",
    "              ['Patient','Encounter','Procedure'],\n",
    "              {\n",
    "                HAS_ENCOUNTER: {\n",
    "                  orientation: 'NATURAL'\n",
    "                },\n",
    "                HAS_PROCEDURE:{\n",
    "                    orientation: 'NATURAL'\n",
    "                },\n",
    "                NEXT:{\n",
    "                    orientation: 'NATURAL'\n",
    "                }\n",
    "              }\n",
    "            )\n",
    "\n",
    "        '''\n",
    "run(query1)\n"
   ]
  },
  {
   "cell_type": "markdown",
   "id": "a5abc6df",
   "metadata": {},
   "source": [
    "FastRP embedding"
   ]
  },
  {
   "cell_type": "code",
   "execution_count": 142,
   "id": "fc74fccb",
   "metadata": {},
   "outputs": [
    {
     "data": {
      "text/html": [
       "<div>\n",
       "<style scoped>\n",
       "    .dataframe tbody tr th:only-of-type {\n",
       "        vertical-align: middle;\n",
       "    }\n",
       "\n",
       "    .dataframe tbody tr th {\n",
       "        vertical-align: top;\n",
       "    }\n",
       "\n",
       "    .dataframe thead th {\n",
       "        text-align: right;\n",
       "    }\n",
       "</style>\n",
       "<table border=\"1\" class=\"dataframe\">\n",
       "  <thead>\n",
       "    <tr style=\"text-align: right;\">\n",
       "      <th></th>\n",
       "      <th>nodePropertiesWritten</th>\n",
       "    </tr>\n",
       "  </thead>\n",
       "  <tbody>\n",
       "    <tr>\n",
       "      <th>0</th>\n",
       "      <td>2060</td>\n",
       "    </tr>\n",
       "  </tbody>\n",
       "</table>\n",
       "</div>"
      ],
      "text/plain": [
       "   nodePropertiesWritten\n",
       "0                   2060"
      ]
     },
     "execution_count": 142,
     "metadata": {},
     "output_type": "execute_result"
    }
   ],
   "source": [
    "query1=  '''CALL gds.fastRP.mutate('sequence1',\n",
    "            {\n",
    "                embeddingDimension: 16,\n",
    "                randomSeed: 42,\n",
    "                mutateProperty: 'embedding',\n",
    "                // relationshipWeightProperty: 'amount',\n",
    "                iterationWeights: [0.8, 1, 1, 1]\n",
    "            }\n",
    "            )\n",
    "            YIELD nodePropertiesWritten\n",
    "\n",
    "        '''\n",
    "df5 = pd.DataFrame(graph.query(query1).to_data_frame())\n",
    "df5\n"
   ]
  },
  {
   "cell_type": "markdown",
   "id": "b7dd763e",
   "metadata": {},
   "source": [
    "Using KNN similarity"
   ]
  },
  {
   "cell_type": "code",
   "execution_count": 143,
   "id": "97345234",
   "metadata": {},
   "outputs": [
    {
     "data": {
      "text/plain": [
       "{}"
      ]
     },
     "execution_count": 143,
     "metadata": {},
     "output_type": "execute_result"
    }
   ],
   "source": [
    "\n",
    "query1= '''\n",
    "            CALL gds.beta.knn.write('sequence1', {\n",
    "                topK: 8,\n",
    "                nodeWeightProperty: 'embedding',\n",
    "                randomSeed: 42,\n",
    "                concurrency: 1,\n",
    "                sampleRate: 1.0,\n",
    "                deltaThreshold: 0.0,\n",
    "                writeRelationshipType: \"SIMILAR\",\n",
    "                writeProperty: \"score\"\n",
    "            })\n",
    "            YIELD nodesCompared, relationshipsWritten, similarityDistribution\n",
    "            RETURN nodesCompared, relationshipsWritten, similarityDistribution.mean as meanSimilarity\n",
    "        '''\n",
    "\n",
    "run(query1)\n"
   ]
  },
  {
   "cell_type": "markdown",
   "id": "ec3d7ea4",
   "metadata": {},
   "source": [
    "Getting similarity scores"
   ]
  },
  {
   "cell_type": "code",
   "execution_count": 146,
   "id": "b3683636",
   "metadata": {
    "scrolled": false
   },
   "outputs": [
    {
     "data": {
      "text/html": [
       "<div>\n",
       "<style scoped>\n",
       "    .dataframe tbody tr th:only-of-type {\n",
       "        vertical-align: middle;\n",
       "    }\n",
       "\n",
       "    .dataframe tbody tr th {\n",
       "        vertical-align: top;\n",
       "    }\n",
       "\n",
       "    .dataframe thead th {\n",
       "        text-align: right;\n",
       "    }\n",
       "</style>\n",
       "<table border=\"1\" class=\"dataframe\">\n",
       "  <thead>\n",
       "    <tr style=\"text-align: right;\">\n",
       "      <th></th>\n",
       "      <th>Patient1</th>\n",
       "      <th>Patient2</th>\n",
       "      <th>Similarity</th>\n",
       "      <th>P1_Sequence</th>\n",
       "      <th>P2_Sequence</th>\n",
       "    </tr>\n",
       "  </thead>\n",
       "  <tbody>\n",
       "    <tr>\n",
       "      <th>0</th>\n",
       "      <td>4599476</td>\n",
       "      <td>4842921</td>\n",
       "      <td>0.950378</td>\n",
       "      <td>[1, 3, 2]</td>\n",
       "      <td>[1, 3, 2]</td>\n",
       "    </tr>\n",
       "    <tr>\n",
       "      <th>1</th>\n",
       "      <td>4842921</td>\n",
       "      <td>4599476</td>\n",
       "      <td>0.950378</td>\n",
       "      <td>[1, 3, 2]</td>\n",
       "      <td>[1, 3, 2]</td>\n",
       "    </tr>\n",
       "    <tr>\n",
       "      <th>2</th>\n",
       "      <td>5117374</td>\n",
       "      <td>4584908</td>\n",
       "      <td>0.947648</td>\n",
       "      <td>[1, 3, 2]</td>\n",
       "      <td>[1, 3, 2]</td>\n",
       "    </tr>\n",
       "    <tr>\n",
       "      <th>3</th>\n",
       "      <td>4584908</td>\n",
       "      <td>5117374</td>\n",
       "      <td>0.947648</td>\n",
       "      <td>[1, 3, 2]</td>\n",
       "      <td>[1, 3, 2]</td>\n",
       "    </tr>\n",
       "    <tr>\n",
       "      <th>4</th>\n",
       "      <td>4954905</td>\n",
       "      <td>5151996</td>\n",
       "      <td>0.942102</td>\n",
       "      <td>[1, 3, 2]</td>\n",
       "      <td>[1, 3, 2]</td>\n",
       "    </tr>\n",
       "    <tr>\n",
       "      <th>5</th>\n",
       "      <td>5151996</td>\n",
       "      <td>4954905</td>\n",
       "      <td>0.942102</td>\n",
       "      <td>[1, 3, 2]</td>\n",
       "      <td>[1, 3, 2]</td>\n",
       "    </tr>\n",
       "    <tr>\n",
       "      <th>6</th>\n",
       "      <td>5512621</td>\n",
       "      <td>4948560</td>\n",
       "      <td>0.941249</td>\n",
       "      <td>[1, 3, 2]</td>\n",
       "      <td>[1, 3, 2]</td>\n",
       "    </tr>\n",
       "    <tr>\n",
       "      <th>7</th>\n",
       "      <td>4948560</td>\n",
       "      <td>5512621</td>\n",
       "      <td>0.941249</td>\n",
       "      <td>[1, 3, 2]</td>\n",
       "      <td>[1, 3, 2]</td>\n",
       "    </tr>\n",
       "    <tr>\n",
       "      <th>8</th>\n",
       "      <td>4366483</td>\n",
       "      <td>4995818</td>\n",
       "      <td>0.941228</td>\n",
       "      <td>[1, 3, 2]</td>\n",
       "      <td>[1, 3, 2]</td>\n",
       "    </tr>\n",
       "    <tr>\n",
       "      <th>9</th>\n",
       "      <td>4995818</td>\n",
       "      <td>4366483</td>\n",
       "      <td>0.941228</td>\n",
       "      <td>[1, 3, 2]</td>\n",
       "      <td>[1, 3, 2]</td>\n",
       "    </tr>\n",
       "    <tr>\n",
       "      <th>10</th>\n",
       "      <td>5514861</td>\n",
       "      <td>5114352</td>\n",
       "      <td>0.939275</td>\n",
       "      <td>[1, 3, 2]</td>\n",
       "      <td>[1, 3, 2]</td>\n",
       "    </tr>\n",
       "    <tr>\n",
       "      <th>11</th>\n",
       "      <td>5114352</td>\n",
       "      <td>5514861</td>\n",
       "      <td>0.939275</td>\n",
       "      <td>[1, 3, 2]</td>\n",
       "      <td>[1, 3, 2]</td>\n",
       "    </tr>\n",
       "    <tr>\n",
       "      <th>12</th>\n",
       "      <td>5122448</td>\n",
       "      <td>5124212</td>\n",
       "      <td>0.939047</td>\n",
       "      <td>[1, 3, 2]</td>\n",
       "      <td>[1, 3, 2]</td>\n",
       "    </tr>\n",
       "    <tr>\n",
       "      <th>13</th>\n",
       "      <td>5124212</td>\n",
       "      <td>5122448</td>\n",
       "      <td>0.939047</td>\n",
       "      <td>[1, 3, 2]</td>\n",
       "      <td>[1, 3, 2]</td>\n",
       "    </tr>\n",
       "    <tr>\n",
       "      <th>14</th>\n",
       "      <td>4524116</td>\n",
       "      <td>5095127</td>\n",
       "      <td>0.937982</td>\n",
       "      <td>[1, 3, 2]</td>\n",
       "      <td>[1, 3, 2]</td>\n",
       "    </tr>\n",
       "    <tr>\n",
       "      <th>15</th>\n",
       "      <td>5095127</td>\n",
       "      <td>4524116</td>\n",
       "      <td>0.937982</td>\n",
       "      <td>[1, 3, 2]</td>\n",
       "      <td>[1, 3, 2]</td>\n",
       "    </tr>\n",
       "    <tr>\n",
       "      <th>16</th>\n",
       "      <td>5113599</td>\n",
       "      <td>5515304</td>\n",
       "      <td>0.936629</td>\n",
       "      <td>[1, 3, 2]</td>\n",
       "      <td>[1, 3, 2]</td>\n",
       "    </tr>\n",
       "    <tr>\n",
       "      <th>17</th>\n",
       "      <td>5515304</td>\n",
       "      <td>5113599</td>\n",
       "      <td>0.936629</td>\n",
       "      <td>[1, 3, 2]</td>\n",
       "      <td>[1, 3, 2]</td>\n",
       "    </tr>\n",
       "    <tr>\n",
       "      <th>18</th>\n",
       "      <td>5114352</td>\n",
       "      <td>4904280</td>\n",
       "      <td>0.935413</td>\n",
       "      <td>[1, 3, 2]</td>\n",
       "      <td>[1, 3, 2]</td>\n",
       "    </tr>\n",
       "    <tr>\n",
       "      <th>19</th>\n",
       "      <td>4904280</td>\n",
       "      <td>5114352</td>\n",
       "      <td>0.935413</td>\n",
       "      <td>[1, 3, 2]</td>\n",
       "      <td>[1, 3, 2]</td>\n",
       "    </tr>\n",
       "    <tr>\n",
       "      <th>20</th>\n",
       "      <td>5514836</td>\n",
       "      <td>5001685</td>\n",
       "      <td>0.934461</td>\n",
       "      <td>[1, 3, 2]</td>\n",
       "      <td>[1, 3, 2]</td>\n",
       "    </tr>\n",
       "    <tr>\n",
       "      <th>21</th>\n",
       "      <td>5001685</td>\n",
       "      <td>5514836</td>\n",
       "      <td>0.934461</td>\n",
       "      <td>[1, 3, 2]</td>\n",
       "      <td>[1, 3, 2]</td>\n",
       "    </tr>\n",
       "    <tr>\n",
       "      <th>22</th>\n",
       "      <td>5119952</td>\n",
       "      <td>4363675</td>\n",
       "      <td>0.932339</td>\n",
       "      <td>[1, 3, 2]</td>\n",
       "      <td>[1, 3, 2]</td>\n",
       "    </tr>\n",
       "    <tr>\n",
       "      <th>23</th>\n",
       "      <td>4363675</td>\n",
       "      <td>5119952</td>\n",
       "      <td>0.932339</td>\n",
       "      <td>[1, 3, 2]</td>\n",
       "      <td>[1, 3, 2]</td>\n",
       "    </tr>\n",
       "    <tr>\n",
       "      <th>24</th>\n",
       "      <td>4842921</td>\n",
       "      <td>5098675</td>\n",
       "      <td>0.931759</td>\n",
       "      <td>[1, 3, 2]</td>\n",
       "      <td>[1, 3, 2]</td>\n",
       "    </tr>\n",
       "    <tr>\n",
       "      <th>25</th>\n",
       "      <td>5098675</td>\n",
       "      <td>4842921</td>\n",
       "      <td>0.931759</td>\n",
       "      <td>[1, 3, 2]</td>\n",
       "      <td>[1, 3, 2]</td>\n",
       "    </tr>\n",
       "    <tr>\n",
       "      <th>26</th>\n",
       "      <td>4772216</td>\n",
       "      <td>4823593</td>\n",
       "      <td>0.930611</td>\n",
       "      <td>[1, 3, 2]</td>\n",
       "      <td>[1, 3, 2]</td>\n",
       "    </tr>\n",
       "    <tr>\n",
       "      <th>27</th>\n",
       "      <td>4823593</td>\n",
       "      <td>4772216</td>\n",
       "      <td>0.930611</td>\n",
       "      <td>[1, 3, 2]</td>\n",
       "      <td>[1, 3, 2]</td>\n",
       "    </tr>\n",
       "    <tr>\n",
       "      <th>28</th>\n",
       "      <td>4920983</td>\n",
       "      <td>4809369</td>\n",
       "      <td>0.930325</td>\n",
       "      <td>[1, 3, 2]</td>\n",
       "      <td>[1, 3, 2]</td>\n",
       "    </tr>\n",
       "    <tr>\n",
       "      <th>29</th>\n",
       "      <td>4809369</td>\n",
       "      <td>4920983</td>\n",
       "      <td>0.930325</td>\n",
       "      <td>[1, 3, 2]</td>\n",
       "      <td>[1, 3, 2]</td>\n",
       "    </tr>\n",
       "    <tr>\n",
       "      <th>30</th>\n",
       "      <td>5122448</td>\n",
       "      <td>5534600</td>\n",
       "      <td>0.928068</td>\n",
       "      <td>[1, 3, 2]</td>\n",
       "      <td>[1, 3, 2]</td>\n",
       "    </tr>\n",
       "    <tr>\n",
       "      <th>31</th>\n",
       "      <td>5534600</td>\n",
       "      <td>5122448</td>\n",
       "      <td>0.928068</td>\n",
       "      <td>[1, 3, 2]</td>\n",
       "      <td>[1, 3, 2]</td>\n",
       "    </tr>\n",
       "    <tr>\n",
       "      <th>32</th>\n",
       "      <td>5124511</td>\n",
       "      <td>4904280</td>\n",
       "      <td>0.927558</td>\n",
       "      <td>[1, 3, 2]</td>\n",
       "      <td>[1, 3, 2]</td>\n",
       "    </tr>\n",
       "    <tr>\n",
       "      <th>33</th>\n",
       "      <td>4904280</td>\n",
       "      <td>5124511</td>\n",
       "      <td>0.927558</td>\n",
       "      <td>[1, 3, 2]</td>\n",
       "      <td>[1, 3, 2]</td>\n",
       "    </tr>\n",
       "    <tr>\n",
       "      <th>34</th>\n",
       "      <td>5118859</td>\n",
       "      <td>5387080</td>\n",
       "      <td>0.927552</td>\n",
       "      <td>[1, 3, 2]</td>\n",
       "      <td>[1, 3, 2]</td>\n",
       "    </tr>\n",
       "    <tr>\n",
       "      <th>35</th>\n",
       "      <td>5387080</td>\n",
       "      <td>5118859</td>\n",
       "      <td>0.927552</td>\n",
       "      <td>[1, 3, 2]</td>\n",
       "      <td>[1, 3, 2]</td>\n",
       "    </tr>\n",
       "    <tr>\n",
       "      <th>36</th>\n",
       "      <td>5323334</td>\n",
       "      <td>4948070</td>\n",
       "      <td>0.927101</td>\n",
       "      <td>[1, 3, 2]</td>\n",
       "      <td>[1, 3, 2]</td>\n",
       "    </tr>\n",
       "    <tr>\n",
       "      <th>37</th>\n",
       "      <td>4948070</td>\n",
       "      <td>5323334</td>\n",
       "      <td>0.927101</td>\n",
       "      <td>[1, 3, 2]</td>\n",
       "      <td>[1, 3, 2]</td>\n",
       "    </tr>\n",
       "    <tr>\n",
       "      <th>38</th>\n",
       "      <td>5124553</td>\n",
       "      <td>5114352</td>\n",
       "      <td>0.927087</td>\n",
       "      <td>[1, 3, 2]</td>\n",
       "      <td>[1, 3, 2]</td>\n",
       "    </tr>\n",
       "    <tr>\n",
       "      <th>39</th>\n",
       "      <td>5114352</td>\n",
       "      <td>5124553</td>\n",
       "      <td>0.927087</td>\n",
       "      <td>[1, 3, 2]</td>\n",
       "      <td>[1, 3, 2]</td>\n",
       "    </tr>\n",
       "    <tr>\n",
       "      <th>40</th>\n",
       "      <td>5022550</td>\n",
       "      <td>5051993</td>\n",
       "      <td>0.926782</td>\n",
       "      <td>[1, 3, 2]</td>\n",
       "      <td>[1, 3, 2]</td>\n",
       "    </tr>\n",
       "    <tr>\n",
       "      <th>41</th>\n",
       "      <td>5051993</td>\n",
       "      <td>5022550</td>\n",
       "      <td>0.926782</td>\n",
       "      <td>[1, 3, 2]</td>\n",
       "      <td>[1, 3, 2]</td>\n",
       "    </tr>\n",
       "    <tr>\n",
       "      <th>42</th>\n",
       "      <td>4948979</td>\n",
       "      <td>5181471</td>\n",
       "      <td>0.926462</td>\n",
       "      <td>[1, 3, 2]</td>\n",
       "      <td>[1, 3, 2]</td>\n",
       "    </tr>\n",
       "    <tr>\n",
       "      <th>43</th>\n",
       "      <td>5181471</td>\n",
       "      <td>4948979</td>\n",
       "      <td>0.926462</td>\n",
       "      <td>[1, 3, 2]</td>\n",
       "      <td>[1, 3, 2]</td>\n",
       "    </tr>\n",
       "    <tr>\n",
       "      <th>44</th>\n",
       "      <td>5151996</td>\n",
       "      <td>5087626</td>\n",
       "      <td>0.925604</td>\n",
       "      <td>[1, 3, 2]</td>\n",
       "      <td>[1, 3, 2]</td>\n",
       "    </tr>\n",
       "    <tr>\n",
       "      <th>45</th>\n",
       "      <td>5087626</td>\n",
       "      <td>5151996</td>\n",
       "      <td>0.925604</td>\n",
       "      <td>[1, 3, 2]</td>\n",
       "      <td>[1, 3, 2]</td>\n",
       "    </tr>\n",
       "    <tr>\n",
       "      <th>46</th>\n",
       "      <td>5112568</td>\n",
       "      <td>5118010</td>\n",
       "      <td>0.925582</td>\n",
       "      <td>[1, 3, 2]</td>\n",
       "      <td>[1, 3, 2]</td>\n",
       "    </tr>\n",
       "    <tr>\n",
       "      <th>47</th>\n",
       "      <td>5118010</td>\n",
       "      <td>5112568</td>\n",
       "      <td>0.925582</td>\n",
       "      <td>[1, 3, 2]</td>\n",
       "      <td>[1, 3, 2]</td>\n",
       "    </tr>\n",
       "    <tr>\n",
       "      <th>48</th>\n",
       "      <td>5419099</td>\n",
       "      <td>4731196</td>\n",
       "      <td>0.925497</td>\n",
       "      <td>[1, 4, 2]</td>\n",
       "      <td>[1, 4, 2]</td>\n",
       "    </tr>\n",
       "    <tr>\n",
       "      <th>49</th>\n",
       "      <td>4731196</td>\n",
       "      <td>5419099</td>\n",
       "      <td>0.925497</td>\n",
       "      <td>[1, 4, 2]</td>\n",
       "      <td>[1, 4, 2]</td>\n",
       "    </tr>\n",
       "  </tbody>\n",
       "</table>\n",
       "</div>"
      ],
      "text/plain": [
       "   Patient1 Patient2  Similarity P1_Sequence P2_Sequence\n",
       "0   4599476  4842921    0.950378   [1, 3, 2]   [1, 3, 2]\n",
       "1   4842921  4599476    0.950378   [1, 3, 2]   [1, 3, 2]\n",
       "2   5117374  4584908    0.947648   [1, 3, 2]   [1, 3, 2]\n",
       "3   4584908  5117374    0.947648   [1, 3, 2]   [1, 3, 2]\n",
       "4   4954905  5151996    0.942102   [1, 3, 2]   [1, 3, 2]\n",
       "5   5151996  4954905    0.942102   [1, 3, 2]   [1, 3, 2]\n",
       "6   5512621  4948560    0.941249   [1, 3, 2]   [1, 3, 2]\n",
       "7   4948560  5512621    0.941249   [1, 3, 2]   [1, 3, 2]\n",
       "8   4366483  4995818    0.941228   [1, 3, 2]   [1, 3, 2]\n",
       "9   4995818  4366483    0.941228   [1, 3, 2]   [1, 3, 2]\n",
       "10  5514861  5114352    0.939275   [1, 3, 2]   [1, 3, 2]\n",
       "11  5114352  5514861    0.939275   [1, 3, 2]   [1, 3, 2]\n",
       "12  5122448  5124212    0.939047   [1, 3, 2]   [1, 3, 2]\n",
       "13  5124212  5122448    0.939047   [1, 3, 2]   [1, 3, 2]\n",
       "14  4524116  5095127    0.937982   [1, 3, 2]   [1, 3, 2]\n",
       "15  5095127  4524116    0.937982   [1, 3, 2]   [1, 3, 2]\n",
       "16  5113599  5515304    0.936629   [1, 3, 2]   [1, 3, 2]\n",
       "17  5515304  5113599    0.936629   [1, 3, 2]   [1, 3, 2]\n",
       "18  5114352  4904280    0.935413   [1, 3, 2]   [1, 3, 2]\n",
       "19  4904280  5114352    0.935413   [1, 3, 2]   [1, 3, 2]\n",
       "20  5514836  5001685    0.934461   [1, 3, 2]   [1, 3, 2]\n",
       "21  5001685  5514836    0.934461   [1, 3, 2]   [1, 3, 2]\n",
       "22  5119952  4363675    0.932339   [1, 3, 2]   [1, 3, 2]\n",
       "23  4363675  5119952    0.932339   [1, 3, 2]   [1, 3, 2]\n",
       "24  4842921  5098675    0.931759   [1, 3, 2]   [1, 3, 2]\n",
       "25  5098675  4842921    0.931759   [1, 3, 2]   [1, 3, 2]\n",
       "26  4772216  4823593    0.930611   [1, 3, 2]   [1, 3, 2]\n",
       "27  4823593  4772216    0.930611   [1, 3, 2]   [1, 3, 2]\n",
       "28  4920983  4809369    0.930325   [1, 3, 2]   [1, 3, 2]\n",
       "29  4809369  4920983    0.930325   [1, 3, 2]   [1, 3, 2]\n",
       "30  5122448  5534600    0.928068   [1, 3, 2]   [1, 3, 2]\n",
       "31  5534600  5122448    0.928068   [1, 3, 2]   [1, 3, 2]\n",
       "32  5124511  4904280    0.927558   [1, 3, 2]   [1, 3, 2]\n",
       "33  4904280  5124511    0.927558   [1, 3, 2]   [1, 3, 2]\n",
       "34  5118859  5387080    0.927552   [1, 3, 2]   [1, 3, 2]\n",
       "35  5387080  5118859    0.927552   [1, 3, 2]   [1, 3, 2]\n",
       "36  5323334  4948070    0.927101   [1, 3, 2]   [1, 3, 2]\n",
       "37  4948070  5323334    0.927101   [1, 3, 2]   [1, 3, 2]\n",
       "38  5124553  5114352    0.927087   [1, 3, 2]   [1, 3, 2]\n",
       "39  5114352  5124553    0.927087   [1, 3, 2]   [1, 3, 2]\n",
       "40  5022550  5051993    0.926782   [1, 3, 2]   [1, 3, 2]\n",
       "41  5051993  5022550    0.926782   [1, 3, 2]   [1, 3, 2]\n",
       "42  4948979  5181471    0.926462   [1, 3, 2]   [1, 3, 2]\n",
       "43  5181471  4948979    0.926462   [1, 3, 2]   [1, 3, 2]\n",
       "44  5151996  5087626    0.925604   [1, 3, 2]   [1, 3, 2]\n",
       "45  5087626  5151996    0.925604   [1, 3, 2]   [1, 3, 2]\n",
       "46  5112568  5118010    0.925582   [1, 3, 2]   [1, 3, 2]\n",
       "47  5118010  5112568    0.925582   [1, 3, 2]   [1, 3, 2]\n",
       "48  5419099  4731196    0.925497   [1, 4, 2]   [1, 4, 2]\n",
       "49  4731196  5419099    0.925497   [1, 4, 2]   [1, 4, 2]"
      ]
     },
     "execution_count": 146,
     "metadata": {},
     "output_type": "execute_result"
    }
   ],
   "source": [
    "query = '''\n",
    "            MATCH (n:Patient)-[r:SIMILAR]->(m:Patient)\n",
    "            RETURN distinct n.pid as Patient1, m.pid as Patient2, r.score as Similarity,n.pnumseq as P1_Sequence,m.pnumseq as P2_Sequence\n",
    "            ORDER BY Similarity DESCENDING\n",
    "            '''\n",
    "df3 = pd.DataFrame(graph.query(query).to_data_frame())\n",
    "df3.head(50)"
   ]
  },
  {
   "cell_type": "markdown",
   "id": "ea83beb0",
   "metadata": {},
   "source": [
    "Removing relation"
   ]
  },
  {
   "cell_type": "code",
   "execution_count": 139,
   "id": "6e2da96e",
   "metadata": {},
   "outputs": [
    {
     "data": {
      "text/plain": [
       "{}"
      ]
     },
     "execution_count": 139,
     "metadata": {},
     "output_type": "execute_result"
    }
   ],
   "source": [
    "query1= '''\n",
    "            match()-[r:SIMILAR]-()\n",
    "            delete r\n",
    "        '''\n",
    "run(query1)"
   ]
  },
  {
   "cell_type": "markdown",
   "id": "afe4252a",
   "metadata": {},
   "source": [
    "Dropping In-memory graph"
   ]
  },
  {
   "cell_type": "code",
   "execution_count": 140,
   "id": "a5d1b60d",
   "metadata": {},
   "outputs": [
    {
     "data": {
      "text/plain": [
       "{}"
      ]
     },
     "execution_count": 140,
     "metadata": {},
     "output_type": "execute_result"
    }
   ],
   "source": [
    "query1= '''CALL gds.graph.drop('sequence1')\n",
    "        '''\n",
    "run(query1)\n"
   ]
  },
  {
   "cell_type": "code",
   "execution_count": null,
   "id": "0ac7c73a",
   "metadata": {},
   "outputs": [],
   "source": []
  }
 ],
 "metadata": {
  "kernelspec": {
   "display_name": "Python 3 (ipykernel)",
   "language": "python",
   "name": "python3"
  },
  "language_info": {
   "codemirror_mode": {
    "name": "ipython",
    "version": 3
   },
   "file_extension": ".py",
   "mimetype": "text/x-python",
   "name": "python",
   "nbconvert_exporter": "python",
   "pygments_lexer": "ipython3",
   "version": "3.8.12"
  }
 },
 "nbformat": 4,
 "nbformat_minor": 5
}
