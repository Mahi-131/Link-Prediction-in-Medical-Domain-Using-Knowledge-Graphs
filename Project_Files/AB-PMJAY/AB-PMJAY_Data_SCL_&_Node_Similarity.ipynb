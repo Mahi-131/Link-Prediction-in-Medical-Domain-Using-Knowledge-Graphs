{
 "cells": [
  {
   "cell_type": "markdown",
   "id": "00f08797",
   "metadata": {},
   "source": [
    "#### Importing libraries"
   ]
  },
  {
   "cell_type": "code",
   "execution_count": 1,
   "id": "bcc4f813",
   "metadata": {},
   "outputs": [],
   "source": [
    "from py2neo import Graph\n",
    "import pandas as pd"
   ]
  },
  {
   "cell_type": "markdown",
   "id": "bfa547b3",
   "metadata": {},
   "source": [
    "#### Integrating with neo4j"
   ]
  },
  {
   "cell_type": "code",
   "execution_count": 2,
   "id": "c4bea5f0",
   "metadata": {},
   "outputs": [],
   "source": [
    "graph = Graph('bolt://localhost:7687', auth=('neo4j', 'md1'))"
   ]
  },
  {
   "cell_type": "code",
   "execution_count": 3,
   "id": "8b087f91",
   "metadata": {},
   "outputs": [
    {
     "data": {
      "text/html": [
       "<table><tr><th>n</th></tr><tr><td style=\"text-align:left\">(_0:Patient {age: 67, gender: &#039;Female&#039;, pid: &#039;4779549&#039;, pnumseq: [1, 3, 6]})</td></tr><tr><td style=\"text-align:left\">(_1:Patient {age: 73, gender: &#039;Female&#039;, pid: &#039;5430539&#039;, pnumseq: [1, 3, 4, 2]})</td></tr><tr><td style=\"text-align:left\">(_2:Patient {age: 69, gender: &#039;Male&#039;, pid: &#039;5055817&#039;, pnumseq: [1, 3, 2]})</td></tr></table>"
      ],
      "text/plain": [
       " n                                                                               \n",
       "---------------------------------------------------------------------------------\n",
       " (_0:Patient {age: 67, gender: 'Female', pid: '4779549', pnumseq: [1, 3, 6]})    \n",
       " (_1:Patient {age: 73, gender: 'Female', pid: '5430539', pnumseq: [1, 3, 4, 2]}) \n",
       " (_2:Patient {age: 69, gender: 'Male', pid: '5055817', pnumseq: [1, 3, 2]})      "
      ]
     },
     "execution_count": 3,
     "metadata": {},
     "output_type": "execute_result"
    }
   ],
   "source": [
    "query =\"\"\"\n",
    "   match(n) return(n)\n",
    "\"\"\"\n",
    "graph.run(query)"
   ]
  },
  {
   "cell_type": "code",
   "execution_count": 4,
   "id": "ce1c970f",
   "metadata": {},
   "outputs": [
    {
     "data": {
      "text/html": [
       "(No data)"
      ],
      "text/plain": [
       "(No data)"
      ]
     },
     "execution_count": 4,
     "metadata": {},
     "output_type": "execute_result"
    }
   ],
   "source": [
    "query =\"\"\"\n",
    "   match(n) detach delete(n)\n",
    "\"\"\"\n",
    "graph.run(query)"
   ]
  },
  {
   "cell_type": "code",
   "execution_count": 4,
   "id": "dff687de",
   "metadata": {},
   "outputs": [],
   "source": [
    "def run(query):\n",
    "    return(graph.run(query).stats())"
   ]
  },
  {
   "cell_type": "code",
   "execution_count": 5,
   "id": "ab839986",
   "metadata": {},
   "outputs": [],
   "source": [
    "def index_run(query_list):\n",
    "    for i in query_list:\n",
    "        graph.run(i).stats()"
   ]
  },
  {
   "cell_type": "code",
   "execution_count": 8,
   "id": "6cec8799",
   "metadata": {},
   "outputs": [],
   "source": [
    "query1 =[\"CREATE INDEX ON :Encounter(id)\",\n",
    "         \"CREATE INDEX ON :Patient (id)\",          \n",
    "         \"CREATE INDEX ON :Procedure (code)\"]\n",
    "\n",
    "index_run(query1)"
   ]
  },
  {
   "cell_type": "code",
   "execution_count": 9,
   "id": "93130131",
   "metadata": {},
   "outputs": [],
   "source": [
    "# query11 =[\"DROP INDEX ON :Encounter(id)\",\n",
    "#          \"DROP INDEX ON :Patient (id)\",          \n",
    "#          \"DROP INDEX ON :Procedure (code)\"]\n",
    "\n",
    "# index_run(query11)"
   ]
  },
  {
   "cell_type": "code",
   "execution_count": 6,
   "id": "68134000",
   "metadata": {},
   "outputs": [
    {
     "data": {
      "text/html": [
       "<table><tr><th>nodes</th><th>relationships</th></tr><tr><td style=\"text-align:left\">[(_-1:Encounter {constraints: [], indexes: [&#039;id&#039;], name: &#039;Encounter&#039;}), (_-2:Patient {constraints: [], indexes: [&#039;id&#039;], name: &#039;Patient&#039;}), (_-3:Procedure {constraints: [], indexes: [&#039;code&#039;], name: &#039;Procedure&#039;})]</td><td style=\"text-align:left\">[(_-2)-[:HAS_ENCOUNTER {}]-&gt;(_-1), (_-1)-[:HAS_PROCEDURE {}]-&gt;(_-3), (_-1)-[:NEXT {}]-&gt;(_-1)]</td></tr></table>"
      ],
      "text/plain": [
       " nodes                                                                                                                                                                                                               | relationships                                                                                 \n",
       "---------------------------------------------------------------------------------------------------------------------------------------------------------------------------------------------------------------------|-----------------------------------------------------------------------------------------------\n",
       " [(_-1:Encounter {constraints: [], indexes: ['id'], name: 'Encounter'}), (_-2:Patient {constraints: [], indexes: ['id'], name: 'Patient'}), (_-3:Procedure {constraints: [], indexes: ['code'], name: 'Procedure'})] | [(_-2)-[:HAS_ENCOUNTER {}]->(_-1), (_-1)-[:HAS_PROCEDURE {}]->(_-3), (_-1)-[:NEXT {}]->(_-1)] "
      ]
     },
     "execution_count": 6,
     "metadata": {},
     "output_type": "execute_result"
    }
   ],
   "source": [
    "graph.query(\"call db.schema.visualization\")"
   ]
  },
  {
   "cell_type": "markdown",
   "id": "aa16e7c2",
   "metadata": {},
   "source": [
    "## Loading CSV Files"
   ]
  },
  {
   "cell_type": "code",
   "execution_count": 12,
   "id": "a771819c",
   "metadata": {},
   "outputs": [
    {
     "data": {
      "text/plain": [
       "{'labels_added': 512, 'nodes_created': 512, 'properties_set': 1536}"
      ]
     },
     "execution_count": 12,
     "metadata": {},
     "output_type": "execute_result"
    }
   ],
   "source": [
    "q1 = '''\n",
    "      load csv with headers from \"file:/p_csv/Patient.csv\" as row\n",
    "      MERGE (p:Patient {pid:row.Patient_Id})\n",
    "          SET\n",
    "               p.gender=row.Gender,            \n",
    "               p.age=toInteger(row.Age)\n",
    "        '''\n",
    "run(q1)"
   ]
  },
  {
   "cell_type": "code",
   "execution_count": 13,
   "id": "ad7019b6",
   "metadata": {},
   "outputs": [
    {
     "data": {
      "text/plain": [
       "{'labels_added': 1539,\n",
       " 'relationships_created': 1539,\n",
       " 'nodes_created': 1539,\n",
       " 'properties_set': 6156}"
      ]
     },
     "execution_count": 13,
     "metadata": {},
     "output_type": "execute_result"
    }
   ],
   "source": [
    "query2 = '''\n",
    "        load csv with headers from \"file:/p_csv/Encounters.csv\" as row\n",
    "        MERGE (e:Encounter {id:row.Encounter_Id})\n",
    "          SET \n",
    "            e.date_order = row.Date_Order,\n",
    "            e.patient_id= row.Patient_Id,\n",
    "            e.weights= toInteger(row.Weights)\n",
    "\n",
    "        MERGE (p:Patient{pid:row.Patient_Id})\n",
    "        \n",
    "        MERGE (p)-[:HAS_ENCOUNTER]->(e)\n",
    "        \n",
    "        '''\n",
    "run(query2)"
   ]
  },
  {
   "cell_type": "code",
   "execution_count": 14,
   "id": "15e3dbfd",
   "metadata": {},
   "outputs": [
    {
     "data": {
      "text/plain": [
       "{'labels_added': 9,\n",
       " 'relationships_created': 1539,\n",
       " 'nodes_created': 9,\n",
       " 'properties_set': 6165}"
      ]
     },
     "execution_count": 14,
     "metadata": {},
     "output_type": "execute_result"
    }
   ],
   "source": [
    "query2 = '''\n",
    "      load csv with headers from \"file:/p_csv/Procedures.csv\" as row\n",
    "      MERGE (p:Patient {pid:row.Patient_Id})\n",
    "      MERGE (r:Procedure {pname:row.Procedure})\n",
    "          \n",
    "          SET \n",
    "              r.date_order = row.Date_Order,\n",
    "              r.start_date = row.Start_date\n",
    "              \n",
    "          MERGE (pe:Encounter {id:row.Encounter_Id})\n",
    "          \n",
    "          ON MATCH\n",
    "            SET pe.date_order = row.Date_Order, pe.pname=row.Procedure, pe.Num_Order = toInteger(row.Num)\n",
    "\n",
    "          MERGE (p)-[:HAS_ENCOUNTER]->(pe)\n",
    "          MERGE (pe)-[:HAS_PROCEDURE]->(r)\n",
    "        '''\n",
    "run(query2)"
   ]
  },
  {
   "cell_type": "code",
   "execution_count": 17,
   "id": "dde4104b",
   "metadata": {},
   "outputs": [
    {
     "data": {
      "text/plain": [
       "{}"
      ]
     },
     "execution_count": 17,
     "metadata": {},
     "output_type": "execute_result"
    }
   ],
   "source": [
    "query2 = '''\n",
    "\n",
    "    CALL apoc.periodic.iterate(\n",
    "    'MATCH (p:Patient) RETURN p',\n",
    "    'MATCH (p)-[:HAS_ENCOUNTER]->(e)\n",
    "    WITH e\n",
    "    ORDER BY e.date_order\n",
    "    WITH collect(e) AS encounters\n",
    "    WITH encounters, encounters[1..] as nextEncounters\n",
    "    UNWIND range(0,size(nextEncounters)-1,1) as index\n",
    "    WITH encounters[index] as first, nextEncounters[index] as second\n",
    "    MERGE (first)-[:NEXT]->(second)',{iterateList:false});\n",
    "    \n",
    "    '''\n",
    "run(query2)"
   ]
  },
  {
   "cell_type": "code",
   "execution_count": 18,
   "id": "3a060bc8",
   "metadata": {},
   "outputs": [
    {
     "data": {
      "text/plain": [
       "{'properties_set': 512}"
      ]
     },
     "execution_count": 18,
     "metadata": {},
     "output_type": "execute_result"
    }
   ],
   "source": [
    "query5 = '''\n",
    "            MATCH (p:Patient)-[:HAS_ENCOUNTER]->(e:Encounter)-[:HAS_PROCEDURE]->(pr:Procedure)\n",
    "            with p.pnumseq as numsequence,collect(e.Num_Order) as sequence1,p\n",
    "            set p.pnumseq = sequence1\n",
    "            return p.pid\n",
    "            '''\n",
    "\n",
    "run(query5)"
   ]
  },
  {
   "cell_type": "code",
   "execution_count": 200,
   "id": "23f010fd",
   "metadata": {},
   "outputs": [],
   "source": [
    "# #Removing property\n",
    "# query6 = '''\n",
    "#             MATCH (p:Patient)\n",
    "#             remove p.pnumseq\n",
    "# '''\n",
    "# run(query6)"
   ]
  },
  {
   "cell_type": "code",
   "execution_count": 201,
   "id": "b3610015",
   "metadata": {},
   "outputs": [],
   "source": [
    "# res4.to_csv(\"C:/Users/Mahesh/Desktop/Patient.csv\")"
   ]
  },
  {
   "cell_type": "code",
   "execution_count": null,
   "id": "b6a0d313",
   "metadata": {},
   "outputs": [],
   "source": []
  },
  {
   "cell_type": "code",
   "execution_count": 26,
   "id": "4163768f",
   "metadata": {},
   "outputs": [
    {
     "data": {
      "text/html": [
       "<div>\n",
       "<style scoped>\n",
       "    .dataframe tbody tr th:only-of-type {\n",
       "        vertical-align: middle;\n",
       "    }\n",
       "\n",
       "    .dataframe tbody tr th {\n",
       "        vertical-align: top;\n",
       "    }\n",
       "\n",
       "    .dataframe thead th {\n",
       "        text-align: right;\n",
       "    }\n",
       "</style>\n",
       "<table border=\"1\" class=\"dataframe\">\n",
       "  <thead>\n",
       "    <tr style=\"text-align: right;\">\n",
       "      <th></th>\n",
       "      <th>Procedure1</th>\n",
       "      <th>Procedure2</th>\n",
       "      <th>count</th>\n",
       "    </tr>\n",
       "  </thead>\n",
       "  <tbody>\n",
       "    <tr>\n",
       "      <th>0</th>\n",
       "      <td>P1</td>\n",
       "      <td>P3</td>\n",
       "      <td>444</td>\n",
       "    </tr>\n",
       "    <tr>\n",
       "      <th>1</th>\n",
       "      <td>P3</td>\n",
       "      <td>P6</td>\n",
       "      <td>8</td>\n",
       "    </tr>\n",
       "    <tr>\n",
       "      <th>2</th>\n",
       "      <td>P1</td>\n",
       "      <td>P4</td>\n",
       "      <td>49</td>\n",
       "    </tr>\n",
       "    <tr>\n",
       "      <th>3</th>\n",
       "      <td>P4</td>\n",
       "      <td>P3</td>\n",
       "      <td>2</td>\n",
       "    </tr>\n",
       "    <tr>\n",
       "      <th>4</th>\n",
       "      <td>P3</td>\n",
       "      <td>P2</td>\n",
       "      <td>418</td>\n",
       "    </tr>\n",
       "    <tr>\n",
       "      <th>5</th>\n",
       "      <td>P4</td>\n",
       "      <td>P2</td>\n",
       "      <td>46</td>\n",
       "    </tr>\n",
       "    <tr>\n",
       "      <th>6</th>\n",
       "      <td>P2</td>\n",
       "      <td>P1</td>\n",
       "      <td>26</td>\n",
       "    </tr>\n",
       "    <tr>\n",
       "      <th>7</th>\n",
       "      <td>P3</td>\n",
       "      <td>P5</td>\n",
       "      <td>10</td>\n",
       "    </tr>\n",
       "    <tr>\n",
       "      <th>8</th>\n",
       "      <td>P3</td>\n",
       "      <td>P1</td>\n",
       "      <td>2</td>\n",
       "    </tr>\n",
       "    <tr>\n",
       "      <th>9</th>\n",
       "      <td>P1</td>\n",
       "      <td>P2</td>\n",
       "      <td>7</td>\n",
       "    </tr>\n",
       "    <tr>\n",
       "      <th>10</th>\n",
       "      <td>P2</td>\n",
       "      <td>P3</td>\n",
       "      <td>5</td>\n",
       "    </tr>\n",
       "    <tr>\n",
       "      <th>11</th>\n",
       "      <td>P1</td>\n",
       "      <td>P7</td>\n",
       "      <td>2</td>\n",
       "    </tr>\n",
       "    <tr>\n",
       "      <th>12</th>\n",
       "      <td>P7</td>\n",
       "      <td>P2</td>\n",
       "      <td>2</td>\n",
       "    </tr>\n",
       "    <tr>\n",
       "      <th>13</th>\n",
       "      <td>P4</td>\n",
       "      <td>P9</td>\n",
       "      <td>1</td>\n",
       "    </tr>\n",
       "    <tr>\n",
       "      <th>14</th>\n",
       "      <td>P9</td>\n",
       "      <td>P3</td>\n",
       "      <td>1</td>\n",
       "    </tr>\n",
       "    <tr>\n",
       "      <th>15</th>\n",
       "      <td>P1</td>\n",
       "      <td>P8</td>\n",
       "      <td>2</td>\n",
       "    </tr>\n",
       "    <tr>\n",
       "      <th>16</th>\n",
       "      <td>P8</td>\n",
       "      <td>P3</td>\n",
       "      <td>2</td>\n",
       "    </tr>\n",
       "  </tbody>\n",
       "</table>\n",
       "</div>"
      ],
      "text/plain": [
       "   Procedure1 Procedure2  count\n",
       "0          P1         P3    444\n",
       "1          P3         P6      8\n",
       "2          P1         P4     49\n",
       "3          P4         P3      2\n",
       "4          P3         P2    418\n",
       "5          P4         P2     46\n",
       "6          P2         P1     26\n",
       "7          P3         P5     10\n",
       "8          P3         P1      2\n",
       "9          P1         P2      7\n",
       "10         P2         P3      5\n",
       "11         P1         P7      2\n",
       "12         P7         P2      2\n",
       "13         P4         P9      1\n",
       "14         P9         P3      1\n",
       "15         P1         P8      2\n",
       "16         P8         P3      2"
      ]
     },
     "execution_count": 26,
     "metadata": {},
     "output_type": "execute_result"
    }
   ],
   "source": [
    "query = '''\n",
    "        MATCH p=(e:Encounter)-[:NEXT]->(e1)\n",
    "        // WHERE exists((e1)-[:NEXT]->())\n",
    "        UNWIND nodes(p) as node\n",
    "        WITH e,p, collect(node.pname) as names\n",
    "        with distinct names, count(*)  as count\n",
    "        UNWIND range(0, size(names) - 2) as index\n",
    "        WITH names[index] as Procedure1, names[index+1] as Procedure2,count\n",
    "        return Procedure1,Procedure2, count \n",
    "\n",
    "        //create (a:Node{Proc:node1})-[t:TO]->(b:Node{Proc:node2})\n",
    "'''\n",
    "df4 = pd.DataFrame(graph.query(query).to_data_frame())\n",
    "df4.to_csv(\"scl.csv\", index = False)\n",
    "df4\n"
   ]
  },
  {
   "cell_type": "code",
   "execution_count": 1,
   "id": "8bc7e501",
   "metadata": {},
   "outputs": [],
   "source": [
    "# df4.to_csv(\"Procedure_count.csv\")"
   ]
  },
  {
   "cell_type": "markdown",
   "id": "e03620e0",
   "metadata": {},
   "source": [
    "## Node similarity\n"
   ]
  },
  {
   "cell_type": "markdown",
   "id": "9e0779d8",
   "metadata": {},
   "source": [
    "Creating In memory graph"
   ]
  },
  {
   "cell_type": "code",
   "execution_count": 7,
   "id": "12c7e1af",
   "metadata": {},
   "outputs": [
    {
     "data": {
      "text/plain": [
       "{}"
      ]
     },
     "execution_count": 7,
     "metadata": {},
     "output_type": "execute_result"
    }
   ],
   "source": [
    "query1= '''CALL gds.graph.create(\n",
    "              'sequence1',\n",
    "              ['Patient','Encounter','Procedure'],\n",
    "              {\n",
    "                HAS_ENCOUNTER: {\n",
    "                  orientation: 'NATURAL'\n",
    "                },\n",
    "                HAS_PROCEDURE:{\n",
    "                    orientation: 'NATURAL'\n",
    "                },\n",
    "                NEXT:{\n",
    "                    orientation: 'NATURAL'\n",
    "                }\n",
    "              }\n",
    "            )\n",
    "\n",
    "        '''\n",
    "run(query1)\n"
   ]
  },
  {
   "cell_type": "markdown",
   "id": "a5abc6df",
   "metadata": {},
   "source": [
    "FastRP embedding"
   ]
  },
  {
   "cell_type": "code",
   "execution_count": 8,
   "id": "fc74fccb",
   "metadata": {},
   "outputs": [
    {
     "data": {
      "text/html": [
       "<div>\n",
       "<style scoped>\n",
       "    .dataframe tbody tr th:only-of-type {\n",
       "        vertical-align: middle;\n",
       "    }\n",
       "\n",
       "    .dataframe tbody tr th {\n",
       "        vertical-align: top;\n",
       "    }\n",
       "\n",
       "    .dataframe thead th {\n",
       "        text-align: right;\n",
       "    }\n",
       "</style>\n",
       "<table border=\"1\" class=\"dataframe\">\n",
       "  <thead>\n",
       "    <tr style=\"text-align: right;\">\n",
       "      <th></th>\n",
       "      <th>nodePropertiesWritten</th>\n",
       "    </tr>\n",
       "  </thead>\n",
       "  <tbody>\n",
       "    <tr>\n",
       "      <th>0</th>\n",
       "      <td>2060</td>\n",
       "    </tr>\n",
       "  </tbody>\n",
       "</table>\n",
       "</div>"
      ],
      "text/plain": [
       "   nodePropertiesWritten\n",
       "0                   2060"
      ]
     },
     "execution_count": 8,
     "metadata": {},
     "output_type": "execute_result"
    }
   ],
   "source": [
    "query1=  '''CALL gds.fastRP.mutate('sequence1',\n",
    "            {\n",
    "                embeddingDimension: 16,\n",
    "                randomSeed: 42,\n",
    "                mutateProperty: 'embedding',\n",
    "                // relationshipWeightProperty: 'amount',\n",
    "                iterationWeights: [0.8, 1, 1, 1]\n",
    "            }\n",
    "            )\n",
    "            YIELD nodePropertiesWritten\n",
    "\n",
    "        '''\n",
    "df5 = pd.DataFrame(graph.query(query1).to_data_frame())\n",
    "df5\n"
   ]
  },
  {
   "cell_type": "markdown",
   "id": "b7dd763e",
   "metadata": {},
   "source": [
    "Using KNN similarity"
   ]
  },
  {
   "cell_type": "code",
   "execution_count": 9,
   "id": "97345234",
   "metadata": {},
   "outputs": [
    {
     "data": {
      "text/plain": [
       "{}"
      ]
     },
     "execution_count": 9,
     "metadata": {},
     "output_type": "execute_result"
    }
   ],
   "source": [
    "\n",
    "query1= '''\n",
    "            CALL gds.beta.knn.write('sequence1', {\n",
    "                topK: 8,\n",
    "                nodeWeightProperty: 'embedding',\n",
    "                randomSeed: 42,\n",
    "                concurrency: 1,\n",
    "                sampleRate: 1.0,\n",
    "                deltaThreshold: 0.0,\n",
    "                writeRelationshipType: \"SIMILAR\",\n",
    "                writeProperty: \"score\"\n",
    "            })\n",
    "            YIELD nodesCompared, relationshipsWritten, similarityDistribution\n",
    "            RETURN nodesCompared, relationshipsWritten, similarityDistribution.mean as meanSimilarity\n",
    "        '''\n",
    "\n",
    "run(query1)\n"
   ]
  },
  {
   "cell_type": "markdown",
   "id": "ec3d7ea4",
   "metadata": {},
   "source": [
    "Getting similarity scores"
   ]
  },
  {
   "cell_type": "code",
   "execution_count": 10,
   "id": "b3683636",
   "metadata": {
    "scrolled": true
   },
   "outputs": [
    {
     "data": {
      "text/html": [
       "<div>\n",
       "<style scoped>\n",
       "    .dataframe tbody tr th:only-of-type {\n",
       "        vertical-align: middle;\n",
       "    }\n",
       "\n",
       "    .dataframe tbody tr th {\n",
       "        vertical-align: top;\n",
       "    }\n",
       "\n",
       "    .dataframe thead th {\n",
       "        text-align: right;\n",
       "    }\n",
       "</style>\n",
       "<table border=\"1\" class=\"dataframe\">\n",
       "  <thead>\n",
       "    <tr style=\"text-align: right;\">\n",
       "      <th></th>\n",
       "      <th>Patient1</th>\n",
       "      <th>Patient2</th>\n",
       "      <th>Similarity</th>\n",
       "      <th>P1_Sequence</th>\n",
       "      <th>P2_Sequence</th>\n",
       "    </tr>\n",
       "  </thead>\n",
       "  <tbody>\n",
       "    <tr>\n",
       "      <th>0</th>\n",
       "      <td>4371980</td>\n",
       "      <td>5181471</td>\n",
       "      <td>0.953167</td>\n",
       "      <td>[1, 3, 2]</td>\n",
       "      <td>[1, 3, 2]</td>\n",
       "    </tr>\n",
       "    <tr>\n",
       "      <th>1</th>\n",
       "      <td>5181471</td>\n",
       "      <td>4371980</td>\n",
       "      <td>0.953167</td>\n",
       "      <td>[1, 3, 2]</td>\n",
       "      <td>[1, 3, 2]</td>\n",
       "    </tr>\n",
       "    <tr>\n",
       "      <th>2</th>\n",
       "      <td>5140487</td>\n",
       "      <td>5135739</td>\n",
       "      <td>0.952284</td>\n",
       "      <td>[1, 3, 2]</td>\n",
       "      <td>[1, 3, 2]</td>\n",
       "    </tr>\n",
       "    <tr>\n",
       "      <th>3</th>\n",
       "      <td>5135739</td>\n",
       "      <td>5140487</td>\n",
       "      <td>0.952284</td>\n",
       "      <td>[1, 3, 2]</td>\n",
       "      <td>[1, 3, 2]</td>\n",
       "    </tr>\n",
       "    <tr>\n",
       "      <th>4</th>\n",
       "      <td>5139875</td>\n",
       "      <td>5226663</td>\n",
       "      <td>0.947877</td>\n",
       "      <td>[1, 3, 2]</td>\n",
       "      <td>[1, 4, 2]</td>\n",
       "    </tr>\n",
       "  </tbody>\n",
       "</table>\n",
       "</div>"
      ],
      "text/plain": [
       "  Patient1 Patient2  Similarity P1_Sequence P2_Sequence\n",
       "0  4371980  5181471    0.953167   [1, 3, 2]   [1, 3, 2]\n",
       "1  5181471  4371980    0.953167   [1, 3, 2]   [1, 3, 2]\n",
       "2  5140487  5135739    0.952284   [1, 3, 2]   [1, 3, 2]\n",
       "3  5135739  5140487    0.952284   [1, 3, 2]   [1, 3, 2]\n",
       "4  5139875  5226663    0.947877   [1, 3, 2]   [1, 4, 2]"
      ]
     },
     "execution_count": 10,
     "metadata": {},
     "output_type": "execute_result"
    }
   ],
   "source": [
    "query = '''\n",
    "    MATCH (n:Patient)-[r:SIMILAR]->(m:Patient)\n",
    "RETURN distinct n.pid as Patient1, m.pid as Patient2, r.score as Similarity,n.pnumseq as P1_Sequence,m.pnumseq as P2_Sequence\n",
    "ORDER BY Similarity DESCENDING\n",
    "'''\n",
    "df3 = pd.DataFrame(graph.query(query).to_data_frame())\n",
    "df3.head(5)"
   ]
  },
  {
   "cell_type": "markdown",
   "id": "ea83beb0",
   "metadata": {},
   "source": [
    "Removing relation"
   ]
  },
  {
   "cell_type": "code",
   "execution_count": 139,
   "id": "6e2da96e",
   "metadata": {},
   "outputs": [
    {
     "data": {
      "text/plain": [
       "{}"
      ]
     },
     "execution_count": 139,
     "metadata": {},
     "output_type": "execute_result"
    }
   ],
   "source": [
    "query1= '''\n",
    "            match()-[r:SIMILAR]-()\n",
    "            delete r\n",
    "        '''\n",
    "run(query1)"
   ]
  },
  {
   "cell_type": "markdown",
   "id": "afe4252a",
   "metadata": {},
   "source": [
    "Dropping In-memory graph"
   ]
  },
  {
   "cell_type": "code",
   "execution_count": 140,
   "id": "a5d1b60d",
   "metadata": {},
   "outputs": [
    {
     "data": {
      "text/plain": [
       "{}"
      ]
     },
     "execution_count": 140,
     "metadata": {},
     "output_type": "execute_result"
    }
   ],
   "source": [
    "query1= '''CALL gds.graph.drop('sequence1')\n",
    "        '''\n",
    "run(query1)\n"
   ]
  },
  {
   "cell_type": "markdown",
   "id": "f4d3c71f",
   "metadata": {},
   "source": [
    "# Support Confidence Lift"
   ]
  },
  {
   "cell_type": "code",
   "execution_count": 5,
   "id": "56911bca",
   "metadata": {},
   "outputs": [
    {
     "data": {
      "text/html": [
       "<div>\n",
       "<style scoped>\n",
       "    .dataframe tbody tr th:only-of-type {\n",
       "        vertical-align: middle;\n",
       "    }\n",
       "\n",
       "    .dataframe tbody tr th {\n",
       "        vertical-align: top;\n",
       "    }\n",
       "\n",
       "    .dataframe thead th {\n",
       "        text-align: right;\n",
       "    }\n",
       "</style>\n",
       "<table border=\"1\" class=\"dataframe\">\n",
       "  <thead>\n",
       "    <tr style=\"text-align: right;\">\n",
       "      <th></th>\n",
       "      <th>Procedures</th>\n",
       "      <th>Support</th>\n",
       "      <th>count</th>\n",
       "    </tr>\n",
       "  </thead>\n",
       "  <tbody>\n",
       "    <tr>\n",
       "      <th>0</th>\n",
       "      <td>[P1]</td>\n",
       "      <td>0.99805</td>\n",
       "      <td>511</td>\n",
       "    </tr>\n",
       "    <tr>\n",
       "      <th>1</th>\n",
       "      <td>[P2]</td>\n",
       "      <td>0.96094</td>\n",
       "      <td>492</td>\n",
       "    </tr>\n",
       "    <tr>\n",
       "      <th>2</th>\n",
       "      <td>[P3]</td>\n",
       "      <td>0.90234</td>\n",
       "      <td>462</td>\n",
       "    </tr>\n",
       "    <tr>\n",
       "      <th>3</th>\n",
       "      <td>[P1, P3]</td>\n",
       "      <td>0.86719</td>\n",
       "      <td>444</td>\n",
       "    </tr>\n",
       "    <tr>\n",
       "      <th>4</th>\n",
       "      <td>[P3, P2]</td>\n",
       "      <td>0.81641</td>\n",
       "      <td>418</td>\n",
       "    </tr>\n",
       "  </tbody>\n",
       "</table>\n",
       "</div>"
      ],
      "text/plain": [
       "  Procedures  Support  count\n",
       "0       [P1]  0.99805    511\n",
       "1       [P2]  0.96094    492\n",
       "2       [P3]  0.90234    462\n",
       "3   [P1, P3]  0.86719    444\n",
       "4   [P3, P2]  0.81641    418"
      ]
     },
     "execution_count": 5,
     "metadata": {},
     "output_type": "execute_result"
    }
   ],
   "source": [
    "\n",
    "\n",
    "query = '''match (c:Patient)\n",
    "            CALL{\n",
    "                    with c \n",
    "                    return count(c) as mycount\n",
    "            }\n",
    "            with sum(mycount)as count1\n",
    "             MATCH p=(e:Encounter)-[:NEXT*0..]->()\n",
    "            // WHERE exists((e1)-[:NEXT]->())\n",
    "            UNWIND nodes(p) as node\n",
    "            WITH e,p, collect(node.pname) as Procedures,count1\n",
    "            with Procedures , round(toFloat(count(*))/count1,5) as Support,count(*) as count\n",
    "            order by Support desc\n",
    "            return  Procedures,Support, count       \n",
    "'''\n",
    "\n",
    "support1 = pd.DataFrame(graph.query(query).to_data_frame())\n",
    "support1.head()"
   ]
  },
  {
   "cell_type": "code",
   "execution_count": 6,
   "id": "fb05ee1b",
   "metadata": {},
   "outputs": [
    {
     "data": {
      "text/html": [
       "<div>\n",
       "<style scoped>\n",
       "    .dataframe tbody tr th:only-of-type {\n",
       "        vertical-align: middle;\n",
       "    }\n",
       "\n",
       "    .dataframe tbody tr th {\n",
       "        vertical-align: top;\n",
       "    }\n",
       "\n",
       "    .dataframe thead th {\n",
       "        text-align: right;\n",
       "    }\n",
       "</style>\n",
       "<table border=\"1\" class=\"dataframe\">\n",
       "  <thead>\n",
       "    <tr style=\"text-align: right;\">\n",
       "      <th></th>\n",
       "      <th>Procedures</th>\n",
       "      <th>Support</th>\n",
       "      <th>Confidence</th>\n",
       "      <th>Lift</th>\n",
       "    </tr>\n",
       "  </thead>\n",
       "  <tbody>\n",
       "    <tr>\n",
       "      <th>0</th>\n",
       "      <td>[P1]</td>\n",
       "      <td>0.99805</td>\n",
       "      <td>0</td>\n",
       "      <td>0</td>\n",
       "    </tr>\n",
       "    <tr>\n",
       "      <th>1</th>\n",
       "      <td>[P2]</td>\n",
       "      <td>0.96094</td>\n",
       "      <td>0</td>\n",
       "      <td>0</td>\n",
       "    </tr>\n",
       "    <tr>\n",
       "      <th>2</th>\n",
       "      <td>[P3]</td>\n",
       "      <td>0.90234</td>\n",
       "      <td>0</td>\n",
       "      <td>0</td>\n",
       "    </tr>\n",
       "    <tr>\n",
       "      <th>3</th>\n",
       "      <td>[P1, P3]</td>\n",
       "      <td>0.86719</td>\n",
       "      <td>0</td>\n",
       "      <td>0</td>\n",
       "    </tr>\n",
       "    <tr>\n",
       "      <th>4</th>\n",
       "      <td>[P3, P2]</td>\n",
       "      <td>0.81641</td>\n",
       "      <td>0</td>\n",
       "      <td>0</td>\n",
       "    </tr>\n",
       "  </tbody>\n",
       "</table>\n",
       "</div>"
      ],
      "text/plain": [
       "  Procedures  Support  Confidence  Lift\n",
       "0       [P1]  0.99805           0     0\n",
       "1       [P2]  0.96094           0     0\n",
       "2       [P3]  0.90234           0     0\n",
       "3   [P1, P3]  0.86719           0     0\n",
       "4   [P3, P2]  0.81641           0     0"
      ]
     },
     "execution_count": 6,
     "metadata": {},
     "output_type": "execute_result"
    }
   ],
   "source": [
    "df7 = support1\n",
    "df7[\"Confidence\"]=0\n",
    "df7['Lift']=0\n",
    "df7.drop('count',axis=1,inplace=True)\n",
    "df7.head()"
   ]
  },
  {
   "cell_type": "markdown",
   "id": "9dddb61f",
   "metadata": {},
   "source": [
    "## Function for confidence"
   ]
  },
  {
   "cell_type": "code",
   "execution_count": 7,
   "id": "346162dc",
   "metadata": {},
   "outputs": [],
   "source": [
    "for i in range(0,df7.shape[0]):\n",
    "    if(len(df7.iloc[i,0])==1):\n",
    "        df7.iloc[i,2]= 1"
   ]
  },
  {
   "cell_type": "code",
   "execution_count": 8,
   "id": "c2878969",
   "metadata": {},
   "outputs": [],
   "source": [
    "seq=\"\"\n",
    "for i in range(0,df7.shape[0]):\n",
    "    if(len(df7.iloc[i,0])>1):\n",
    "        seq= df7.iloc[i,0].copy()\n",
    "        support1= df7.iloc[i,1]\n",
    "        seq.pop()\n",
    "        for j in range(0,i):\n",
    "            if(seq==df7.iloc[j,0]):\n",
    "                support2= df7.iloc[j,1]\n",
    "        df7.iloc[i,2]= round((support1/support2),5)"
   ]
  },
  {
   "cell_type": "code",
   "execution_count": 9,
   "id": "8b438c77",
   "metadata": {
    "scrolled": true
   },
   "outputs": [
    {
     "data": {
      "text/html": [
       "<div>\n",
       "<style scoped>\n",
       "    .dataframe tbody tr th:only-of-type {\n",
       "        vertical-align: middle;\n",
       "    }\n",
       "\n",
       "    .dataframe tbody tr th {\n",
       "        vertical-align: top;\n",
       "    }\n",
       "\n",
       "    .dataframe thead th {\n",
       "        text-align: right;\n",
       "    }\n",
       "</style>\n",
       "<table border=\"1\" class=\"dataframe\">\n",
       "  <thead>\n",
       "    <tr style=\"text-align: right;\">\n",
       "      <th></th>\n",
       "      <th>Procedures</th>\n",
       "      <th>Support</th>\n",
       "      <th>Confidence</th>\n",
       "      <th>Lift</th>\n",
       "    </tr>\n",
       "  </thead>\n",
       "  <tbody>\n",
       "    <tr>\n",
       "      <th>0</th>\n",
       "      <td>[P1]</td>\n",
       "      <td>0.99805</td>\n",
       "      <td>1.00000</td>\n",
       "      <td>0</td>\n",
       "    </tr>\n",
       "    <tr>\n",
       "      <th>1</th>\n",
       "      <td>[P2]</td>\n",
       "      <td>0.96094</td>\n",
       "      <td>1.00000</td>\n",
       "      <td>0</td>\n",
       "    </tr>\n",
       "    <tr>\n",
       "      <th>2</th>\n",
       "      <td>[P3]</td>\n",
       "      <td>0.90234</td>\n",
       "      <td>1.00000</td>\n",
       "      <td>0</td>\n",
       "    </tr>\n",
       "    <tr>\n",
       "      <th>3</th>\n",
       "      <td>[P1, P3]</td>\n",
       "      <td>0.86719</td>\n",
       "      <td>0.86888</td>\n",
       "      <td>0</td>\n",
       "    </tr>\n",
       "    <tr>\n",
       "      <th>4</th>\n",
       "      <td>[P3, P2]</td>\n",
       "      <td>0.81641</td>\n",
       "      <td>0.90477</td>\n",
       "      <td>0</td>\n",
       "    </tr>\n",
       "  </tbody>\n",
       "</table>\n",
       "</div>"
      ],
      "text/plain": [
       "  Procedures  Support  Confidence  Lift\n",
       "0       [P1]  0.99805     1.00000     0\n",
       "1       [P2]  0.96094     1.00000     0\n",
       "2       [P3]  0.90234     1.00000     0\n",
       "3   [P1, P3]  0.86719     0.86888     0\n",
       "4   [P3, P2]  0.81641     0.90477     0"
      ]
     },
     "execution_count": 9,
     "metadata": {},
     "output_type": "execute_result"
    }
   ],
   "source": [
    "df7.head()"
   ]
  },
  {
   "cell_type": "markdown",
   "id": "5241767d",
   "metadata": {},
   "source": [
    "## Function for Lift"
   ]
  },
  {
   "cell_type": "code",
   "execution_count": 10,
   "id": "31ce8489",
   "metadata": {},
   "outputs": [],
   "source": [
    "seq=\"\"\n",
    "support1= suppor2= support3=1\n",
    "for i in range(0,df7.shape[0]):\n",
    "    if(len(df7.iloc[i,0])>1):\n",
    "        seq= df7.iloc[i,0].copy()\n",
    "        support1= df7.iloc[i,1]\n",
    "        popped= seq.pop()\n",
    "        for k in range(0,i):\n",
    "            if(list(popped.split(\" \"))==df7.iloc[k,0]):\n",
    "                support3= df7.iloc[k,1]\n",
    "        for j in range(0,i):\n",
    "            if(seq==df7.iloc[j,0]):\n",
    "                support2= df7.iloc[j,1]\n",
    "        df7.iloc[i,3]= round(support1/(support2*support3),5)"
   ]
  },
  {
   "cell_type": "code",
   "execution_count": 11,
   "id": "bce0a4ad",
   "metadata": {},
   "outputs": [
    {
     "data": {
      "text/html": [
       "<div>\n",
       "<style scoped>\n",
       "    .dataframe tbody tr th:only-of-type {\n",
       "        vertical-align: middle;\n",
       "    }\n",
       "\n",
       "    .dataframe tbody tr th {\n",
       "        vertical-align: top;\n",
       "    }\n",
       "\n",
       "    .dataframe thead th {\n",
       "        text-align: right;\n",
       "    }\n",
       "</style>\n",
       "<table border=\"1\" class=\"dataframe\">\n",
       "  <thead>\n",
       "    <tr style=\"text-align: right;\">\n",
       "      <th></th>\n",
       "      <th>Procedures</th>\n",
       "      <th>Support</th>\n",
       "      <th>Confidence</th>\n",
       "      <th>Lift</th>\n",
       "    </tr>\n",
       "  </thead>\n",
       "  <tbody>\n",
       "    <tr>\n",
       "      <th>0</th>\n",
       "      <td>[P1]</td>\n",
       "      <td>0.99805</td>\n",
       "      <td>1.00000</td>\n",
       "      <td>0.00000</td>\n",
       "    </tr>\n",
       "    <tr>\n",
       "      <th>1</th>\n",
       "      <td>[P2]</td>\n",
       "      <td>0.96094</td>\n",
       "      <td>1.00000</td>\n",
       "      <td>0.00000</td>\n",
       "    </tr>\n",
       "    <tr>\n",
       "      <th>2</th>\n",
       "      <td>[P3]</td>\n",
       "      <td>0.90234</td>\n",
       "      <td>1.00000</td>\n",
       "      <td>0.00000</td>\n",
       "    </tr>\n",
       "    <tr>\n",
       "      <th>3</th>\n",
       "      <td>[P1, P3]</td>\n",
       "      <td>0.86719</td>\n",
       "      <td>0.86888</td>\n",
       "      <td>0.96292</td>\n",
       "    </tr>\n",
       "    <tr>\n",
       "      <th>4</th>\n",
       "      <td>[P3, P2]</td>\n",
       "      <td>0.81641</td>\n",
       "      <td>0.90477</td>\n",
       "      <td>0.94155</td>\n",
       "    </tr>\n",
       "  </tbody>\n",
       "</table>\n",
       "</div>"
      ],
      "text/plain": [
       "  Procedures  Support  Confidence     Lift\n",
       "0       [P1]  0.99805     1.00000  0.00000\n",
       "1       [P2]  0.96094     1.00000  0.00000\n",
       "2       [P3]  0.90234     1.00000  0.00000\n",
       "3   [P1, P3]  0.86719     0.86888  0.96292\n",
       "4   [P3, P2]  0.81641     0.90477  0.94155"
      ]
     },
     "execution_count": 11,
     "metadata": {},
     "output_type": "execute_result"
    }
   ],
   "source": [
    "df7.head()"
   ]
  },
  {
   "cell_type": "code",
   "execution_count": 12,
   "id": "0db1ab12",
   "metadata": {},
   "outputs": [
    {
     "data": {
      "text/html": [
       "<div>\n",
       "<style scoped>\n",
       "    .dataframe tbody tr th:only-of-type {\n",
       "        vertical-align: middle;\n",
       "    }\n",
       "\n",
       "    .dataframe tbody tr th {\n",
       "        vertical-align: top;\n",
       "    }\n",
       "\n",
       "    .dataframe thead th {\n",
       "        text-align: right;\n",
       "    }\n",
       "</style>\n",
       "<table border=\"1\" class=\"dataframe\">\n",
       "  <thead>\n",
       "    <tr style=\"text-align: right;\">\n",
       "      <th></th>\n",
       "      <th>Procedures</th>\n",
       "      <th>Support</th>\n",
       "      <th>Confidence</th>\n",
       "      <th>Lift</th>\n",
       "    </tr>\n",
       "  </thead>\n",
       "  <tbody>\n",
       "    <tr>\n",
       "      <th>1</th>\n",
       "      <td>[P2]</td>\n",
       "      <td>0.96094</td>\n",
       "      <td>1.00000</td>\n",
       "      <td>0.00000</td>\n",
       "    </tr>\n",
       "    <tr>\n",
       "      <th>4</th>\n",
       "      <td>[P3, P2]</td>\n",
       "      <td>0.81641</td>\n",
       "      <td>0.90477</td>\n",
       "      <td>0.94155</td>\n",
       "    </tr>\n",
       "    <tr>\n",
       "      <th>5</th>\n",
       "      <td>[P1, P3, P2]</td>\n",
       "      <td>0.79883</td>\n",
       "      <td>0.92117</td>\n",
       "      <td>0.95861</td>\n",
       "    </tr>\n",
       "    <tr>\n",
       "      <th>8</th>\n",
       "      <td>[P4, P2]</td>\n",
       "      <td>0.08984</td>\n",
       "      <td>0.90192</td>\n",
       "      <td>0.93858</td>\n",
       "    </tr>\n",
       "    <tr>\n",
       "      <th>9</th>\n",
       "      <td>[P1, P4, P2]</td>\n",
       "      <td>0.08789</td>\n",
       "      <td>0.91839</td>\n",
       "      <td>0.95572</td>\n",
       "    </tr>\n",
       "    <tr>\n",
       "      <th>18</th>\n",
       "      <td>[P1, P2]</td>\n",
       "      <td>0.01367</td>\n",
       "      <td>0.01370</td>\n",
       "      <td>0.01425</td>\n",
       "    </tr>\n",
       "    <tr>\n",
       "      <th>23</th>\n",
       "      <td>[P1, P4, P3, P2]</td>\n",
       "      <td>0.00391</td>\n",
       "      <td>1.00000</td>\n",
       "      <td>1.04065</td>\n",
       "    </tr>\n",
       "    <tr>\n",
       "      <th>25</th>\n",
       "      <td>[P4, P3, P2]</td>\n",
       "      <td>0.00391</td>\n",
       "      <td>1.00000</td>\n",
       "      <td>1.04065</td>\n",
       "    </tr>\n",
       "    <tr>\n",
       "      <th>28</th>\n",
       "      <td>[P3, P1, P2]</td>\n",
       "      <td>0.00391</td>\n",
       "      <td>1.00000</td>\n",
       "      <td>1.04065</td>\n",
       "    </tr>\n",
       "    <tr>\n",
       "      <th>30</th>\n",
       "      <td>[P1, P7, P2]</td>\n",
       "      <td>0.00391</td>\n",
       "      <td>1.00000</td>\n",
       "      <td>1.04065</td>\n",
       "    </tr>\n",
       "    <tr>\n",
       "      <th>32</th>\n",
       "      <td>[P7, P2]</td>\n",
       "      <td>0.00391</td>\n",
       "      <td>1.00000</td>\n",
       "      <td>1.04065</td>\n",
       "    </tr>\n",
       "    <tr>\n",
       "      <th>40</th>\n",
       "      <td>[P4, P9, P3, P2]</td>\n",
       "      <td>0.00195</td>\n",
       "      <td>1.00000</td>\n",
       "      <td>1.04065</td>\n",
       "    </tr>\n",
       "    <tr>\n",
       "      <th>43</th>\n",
       "      <td>[P9, P3, P2]</td>\n",
       "      <td>0.00195</td>\n",
       "      <td>1.00000</td>\n",
       "      <td>1.04065</td>\n",
       "    </tr>\n",
       "  </tbody>\n",
       "</table>\n",
       "</div>"
      ],
      "text/plain": [
       "          Procedures  Support  Confidence     Lift\n",
       "1               [P2]  0.96094     1.00000  0.00000\n",
       "4           [P3, P2]  0.81641     0.90477  0.94155\n",
       "5       [P1, P3, P2]  0.79883     0.92117  0.95861\n",
       "8           [P4, P2]  0.08984     0.90192  0.93858\n",
       "9       [P1, P4, P2]  0.08789     0.91839  0.95572\n",
       "18          [P1, P2]  0.01367     0.01370  0.01425\n",
       "23  [P1, P4, P3, P2]  0.00391     1.00000  1.04065\n",
       "25      [P4, P3, P2]  0.00391     1.00000  1.04065\n",
       "28      [P3, P1, P2]  0.00391     1.00000  1.04065\n",
       "30      [P1, P7, P2]  0.00391     1.00000  1.04065\n",
       "32          [P7, P2]  0.00391     1.00000  1.04065\n",
       "40  [P4, P9, P3, P2]  0.00195     1.00000  1.04065\n",
       "43      [P9, P3, P2]  0.00195     1.00000  1.04065"
      ]
     },
     "execution_count": 12,
     "metadata": {},
     "output_type": "execute_result"
    }
   ],
   "source": [
    "val = 'P2'\n",
    "indices =  []\n",
    "\n",
    "for i in range(df7.shape[0]):\n",
    "    seq1= df7.iloc[i,0].copy()\n",
    "    popped= seq1.pop()\n",
    "    #print(popped)   \n",
    "    if(list(popped.split(\" \"))==list(val.split(\" \"))):\n",
    "        indices.append(i)\n",
    "                \n",
    "newdf = df7.iloc[indices, :]\n",
    "newdf\n"
   ]
  },
  {
   "cell_type": "code",
   "execution_count": null,
   "id": "cef45d16",
   "metadata": {},
   "outputs": [],
   "source": []
  }
 ],
 "metadata": {
  "kernelspec": {
   "display_name": "Python 3 (ipykernel)",
   "language": "python",
   "name": "python3"
  },
  "language_info": {
   "codemirror_mode": {
    "name": "ipython",
    "version": 3
   },
   "file_extension": ".py",
   "mimetype": "text/x-python",
   "name": "python",
   "nbconvert_exporter": "python",
   "pygments_lexer": "ipython3",
   "version": "3.8.12"
  }
 },
 "nbformat": 4,
 "nbformat_minor": 5
}
